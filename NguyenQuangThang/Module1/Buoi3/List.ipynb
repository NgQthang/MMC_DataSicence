{
  "nbformat": 4,
  "nbformat_minor": 0,
  "metadata": {
    "colab": {
      "provenance": []
    },
    "kernelspec": {
      "name": "python3",
      "display_name": "Python 3"
    },
    "language_info": {
      "name": "python"
    }
  },
  "cells": [
    {
      "cell_type": "markdown",
      "source": [
        "# **List trong Python**\n",
        "\n",
        "\n"
      ],
      "metadata": {
        "id": "cLnLmcouJknE"
      }
    },
    {
      "cell_type": "markdown",
      "source": [
        "#Mục Lục\n",
        "\n",
        "**I. Giới thiệu về List trong Python:**\n",
        "1. List có cấu trúc mảng (Array)\n",
        "2. Các thao tác với mảng\n",
        "3. Lưu ý: Phân biệt List và Array\n",
        "\n",
        "**II. Các phương thức List trong Python:**\n",
        "1. Thêm phần tử vào danh sách\n",
        "2. Xóa tất cả các phần tử khỏi danh sách\n",
        "3. Tạo một bản sao của danh sách  \n",
        "4. Đếm số lần xuất hiện của một phần tử trong danh sách  \n",
        "5. Mở rộng danh sách\n",
        "6. Tìm một giá trị trong danh sách\n",
        "7. Chèn một phần tử vào vị trí được chỉ định trong danh sách\n",
        "8. Lấy phần tử cuối danh sách\n",
        "9. Xóa một phần tử được chỉ định khỏi danh sách\n",
        "10. Đảo ngược giá trị của danh sách\n",
        "11. Sắp xếp giá trị các phần tử\n",
        "\n",
        "**III. Bài tập về List:**\n",
        "1. Bài tập\n",
        "2. Answer\n",
        "\n",
        "End"
      ],
      "metadata": {
        "id": "IOqLJrSVUNsM"
      }
    },
    {
      "cell_type": "markdown",
      "source": [
        "#I. Giới thiệu về List trong Python:"
      ],
      "metadata": {
        "id": "tKIKbwOaUkDX"
      }
    },
    {
      "cell_type": "markdown",
      "source": [
        "##1. List có cấu trúc mảng (Array)"
      ],
      "metadata": {
        "id": "ip3qtrhUVfRk"
      }
    },
    {
      "cell_type": "markdown",
      "source": [
        "List trong Python là cấu trúc mảng và các phần tử có index có thứ tự. Key của một mảng có thể vừa là số, vừa là chuỗi (associated array).\n",
        "\n",
        "Trong Python, muốn tạo một mảng có key là chuỗi thì sẽ sử dụng cấu trúc Dictionary (phần tiếp tiếp). Trong phần này, chúng ta sẽ nói đến List. Một List được khai báo như mảng trong JSON. Sử dụng [..] để khai báo một mảng.\n",
        "Ví dụ:\n"
      ],
      "metadata": {
        "id": "l1o04dyAHpDy"
      }
    },
    {
      "cell_type": "code",
      "source": [
        "numbers = [1, 2, 3, 4, 5]\n",
        "names = ['Marry','Peter']"
      ],
      "metadata": {
        "id": "KudKjcqqH4F9"
      },
      "execution_count": 59,
      "outputs": []
    },
    {
      "cell_type": "markdown",
      "source": [
        "Có thể truy xuất từng phần tử của mảng bằng index, phần tử đầu tiên có thứ tự là 0. Ví dụ:"
      ],
      "metadata": {
        "id": "0zvYdqdnH-2_"
      }
    },
    {
      "cell_type": "code",
      "source": [
        "print(numbers[0])"
      ],
      "metadata": {
        "id": "syXDzJAwH9r0",
        "colab": {
          "base_uri": "https://localhost:8080/"
        },
        "outputId": "80b0583a-51b0-4661-d325-69bc2c6755f6"
      },
      "execution_count": 60,
      "outputs": [
        {
          "output_type": "stream",
          "name": "stdout",
          "text": [
            "1\n"
          ]
        }
      ]
    },
    {
      "cell_type": "markdown",
      "source": [
        "Để biết được số lượng phần tử của 1 List, có thể sử dụng hàm len(array) để lấy số lượng phần tử của mảng tham số truyền vào."
      ],
      "metadata": {
        "id": "croE2OfKJZVh"
      }
    },
    {
      "cell_type": "code",
      "source": [
        "len(names)"
      ],
      "metadata": {
        "colab": {
          "base_uri": "https://localhost:8080/"
        },
        "id": "AIukt04RJcA4",
        "outputId": "5132524a-7d5a-44b4-f1fb-cdfddf93b207"
      },
      "execution_count": 61,
      "outputs": [
        {
          "output_type": "execute_result",
          "data": {
            "text/plain": [
              "2"
            ]
          },
          "metadata": {},
          "execution_count": 61
        }
      ]
    },
    {
      "cell_type": "markdown",
      "source": [
        "##2. Các thao tác với mảng"
      ],
      "metadata": {
        "id": "AY190N-JV_mx"
      }
    },
    {
      "cell_type": "markdown",
      "source": [
        "## Kiểm tra sự tồn tại của một phần tử\n"
      ],
      "metadata": {
        "id": "S0FcbtKiKY6J"
      }
    },
    {
      "cell_type": "markdown",
      "source": [
        "### Kiểm tra theo Index\n",
        "Trong nhiều trường hợp bạn muốn truy xuất một phần tử bất kỳ (dựa vào index) của mảng thì nếu truy xuất đến một phần tử không tồn tại thì ứng dụng sẽ báo lỗi. Do đó, trước khi truy xuất một phần tử, bạn cần kiểm tra xem phần tử này đã tồn tại hay chưa. Hiện tại python không hỗ trợ hàm nào để kiểm tra sự tồn tại của một phần tử trong mảng.\n",
        "\n",
        "Có 2 cách thường thấy để kiểm tra đó là “Look before you leap” (LBYL) và “Easier to ask forgiveness than permission” (EAFP).\n",
        "\n",
        "\n"
      ],
      "metadata": {
        "id": "ylx830pnVvmr"
      }
    },
    {
      "cell_type": "markdown",
      "source": [
        "- “Look before you leap (LBYL)”: Là phương pháp để kiểm tra trước khi thực hiện một hành động. Trong trường hợp kiểm tra sự tồn tại của một phần tử trong danh sách, cụ thể là theo index, phương pháp LBYL sẽ kiểm tra trước xem index có hợp lệ không trước khi truy xuất phần tử.\n",
        "\n",
        " ```\n",
        " if index < len(array):\n",
        "   array[index]\n",
        " else:\n",
        "   # handle this\n",
        " ```\n"
      ],
      "metadata": {
        "id": "XMw3nQLc-4Kb"
      }
    },
    {
      "cell_type": "code",
      "source": [
        "#Ví dụ về LBYL\n",
        "\n",
        "my_list = [10, 20, 30, 40, 50]\n",
        "index = 6  # index không hợp lệ\n",
        "\n",
        "if index < len(my_list):\n",
        "    print(\"Giá trị của phần tử tại index\", index, \"là:\", my_list[index])\n",
        "else:\n",
        "    print(\"Index không hợp lệ. Xử lý trường hợp này...\")\n"
      ],
      "metadata": {
        "id": "6qBfjc02-971",
        "colab": {
          "base_uri": "https://localhost:8080/"
        },
        "outputId": "ad56f7de-cf2c-43eb-f728-dcba3cdfe862"
      },
      "execution_count": 62,
      "outputs": [
        {
          "output_type": "stream",
          "name": "stdout",
          "text": [
            "Index không hợp lệ. Xử lý trường hợp này...\n"
          ]
        }
      ]
    },
    {
      "cell_type": "markdown",
      "source": [
        "- “Easier to ask forgiveness than permission” (EAFP): là một phương pháp khuyến khích việc thực hiện một hành động trước, sau đó xử lý ngoại lệ nếu có lỗi xảy ra. Phương pháp này cho phép chương trình thực hiện trực tiếp một hành động và chỉ xử lý lỗi nếu cần thiết.\n",
        "\n",
        " ```\n",
        " try:\n",
        "   array[index]\n",
        " except IndexError:\n",
        "   # handle this\n",
        " ```"
      ],
      "metadata": {
        "id": "-yzh9U6b-8JC"
      }
    },
    {
      "cell_type": "code",
      "source": [
        "#Ví dụ về EAFP\n",
        "my_list = [10, 20, 30, 40, 50]\n",
        "index = 6  # index không hợp lệ\n",
        "\n",
        "try:\n",
        "    print(\"Giá trị của phần tử tại index\", index, \"là:\", my_list[index])\n",
        "except IndexError:\n",
        "    print(\"Index không hợp lệ. Xử lý trường hợp này...\")\n"
      ],
      "metadata": {
        "id": "ykIH8zvIADrH",
        "colab": {
          "base_uri": "https://localhost:8080/"
        },
        "outputId": "048c26de-9471-41c3-f7bb-4d260ae58c54"
      },
      "execution_count": 63,
      "outputs": [
        {
          "output_type": "stream",
          "name": "stdout",
          "text": [
            "Index không hợp lệ. Xử lý trường hợp này...\n"
          ]
        }
      ]
    },
    {
      "cell_type": "markdown",
      "source": [
        "\n",
        "\n",
        "### Kiểm tra theo giá trị\n",
        "Để kiểm tra một giá trị có tồn tại / không tồn tại trong mảng hay không thì có thể sử dụng toán tử in / not in . Ví dụ:"
      ],
      "metadata": {
        "id": "y-UbKbwF-0Ff"
      }
    },
    {
      "cell_type": "markdown",
      "source": [],
      "metadata": {
        "id": "SBk3dz9Q-uN9"
      }
    },
    {
      "cell_type": "code",
      "source": [
        "mylist = ['a','b','c']\n",
        "\n",
        "print('a' in mylist)"
      ],
      "metadata": {
        "colab": {
          "base_uri": "https://localhost:8080/"
        },
        "id": "kK1hAnHBKkVA",
        "outputId": "1521dab8-d646-4e58-bf2a-dd9eb9ff484c"
      },
      "execution_count": 64,
      "outputs": [
        {
          "output_type": "stream",
          "name": "stdout",
          "text": [
            "True\n"
          ]
        }
      ]
    },
    {
      "cell_type": "code",
      "source": [
        "print('b' not in mylist)"
      ],
      "metadata": {
        "colab": {
          "base_uri": "https://localhost:8080/"
        },
        "id": "nozgEORALMnJ",
        "outputId": "134b1c8f-af8c-4ba2-9fe4-84a03e2cc073"
      },
      "execution_count": 65,
      "outputs": [
        {
          "output_type": "stream",
          "name": "stdout",
          "text": [
            "False\n"
          ]
        }
      ]
    },
    {
      "cell_type": "markdown",
      "source": [
        "## Trích xuất mảng con\n",
        "Tương tự như chuỗi, có thể tạo các mảng con thông qua toán tử lấy khoản `[start:end]` (range). Mặc định `start` là từ vị trí đầu chuỗi ( 0 ) và end là đến vị trí cuối chuỗi. Ví dụ:\n"
      ],
      "metadata": {
        "id": "a6AJLwbuSeJk"
      }
    },
    {
      "cell_type": "code",
      "source": [
        "mylist = ['a','b','c','d']\n",
        "\n",
        "# Trích xuất từ phần tử đầu tiên (chỉ mục 0) đến phần tử có chỉ mục là 2 (không bao gồm)\n",
        "print(mylist[:2])"
      ],
      "metadata": {
        "colab": {
          "base_uri": "https://localhost:8080/"
        },
        "id": "kxsIPbjGSrYa",
        "outputId": "5d193309-936d-4773-9826-dbeeaeee475a"
      },
      "execution_count": 66,
      "outputs": [
        {
          "output_type": "stream",
          "name": "stdout",
          "text": [
            "['a', 'b']\n"
          ]
        }
      ]
    },
    {
      "cell_type": "code",
      "source": [
        "# Trích xuất từ phần tử có chỉ mục là 1 (bao gồm) đến phần tử có chỉ mục là 3 (không bao gồm)\n",
        "print(mylist[1:3])"
      ],
      "metadata": {
        "id": "Iwq_228sCoK2",
        "colab": {
          "base_uri": "https://localhost:8080/"
        },
        "outputId": "7239fc60-11f4-427b-cfe3-d0736dba1b9c"
      },
      "execution_count": 67,
      "outputs": [
        {
          "output_type": "stream",
          "name": "stdout",
          "text": [
            "['b', 'c']\n"
          ]
        }
      ]
    },
    {
      "cell_type": "code",
      "source": [
        "print(mylist[-2:])"
      ],
      "metadata": {
        "colab": {
          "base_uri": "https://localhost:8080/"
        },
        "id": "_rngPYTQS4G6",
        "outputId": "6c0ca2df-062a-4eb6-8295-930eaa1fcf9a"
      },
      "execution_count": 68,
      "outputs": [
        {
          "output_type": "stream",
          "name": "stdout",
          "text": [
            "['c', 'd']\n"
          ]
        }
      ]
    },
    {
      "cell_type": "code",
      "source": [
        "# Có thể kiểm tra chỉ mục của phần tử trong list bằng cách sử dụng vòng lặp for\n",
        "\n",
        "mylist = ['a','b','c','d']\n",
        "for index, value in enumerate(mylist):\n",
        "    print(f\"Chỉ mục của phần tử '{value}' là: {index}\")\n"
      ],
      "metadata": {
        "colab": {
          "base_uri": "https://localhost:8080/"
        },
        "id": "tbDEs6m3FCzO",
        "outputId": "0b37b1b5-8175-4941-99bc-dfec544360f6"
      },
      "execution_count": 69,
      "outputs": [
        {
          "output_type": "stream",
          "name": "stdout",
          "text": [
            "Chỉ mục của phần tử 'a' là: 0\n",
            "Chỉ mục của phần tử 'b' là: 1\n",
            "Chỉ mục của phần tử 'c' là: 2\n",
            "Chỉ mục của phần tử 'd' là: 3\n"
          ]
        }
      ]
    },
    {
      "cell_type": "markdown",
      "source": [
        "## Xóa phần tử của mảng\n",
        "Có thể xóa một phần tử thông qua toán tử `del`. Thứ tự của các phần tử sẽ dịch chuyển tùy vào vị trí của phần tử bị xóa. Ví dụ:"
      ],
      "metadata": {
        "id": "OVSXP19qS8lx"
      }
    },
    {
      "cell_type": "code",
      "source": [
        "mylist = ['a','b','c','d']\n",
        "\n",
        "del(mylist[0])\n",
        "mylist"
      ],
      "metadata": {
        "colab": {
          "base_uri": "https://localhost:8080/"
        },
        "id": "1-GfSmxFTFFj",
        "outputId": "b9bb973c-70d2-4413-a421-f2211bd00d48"
      },
      "execution_count": 70,
      "outputs": [
        {
          "output_type": "execute_result",
          "data": {
            "text/plain": [
              "['b', 'c', 'd']"
            ]
          },
          "metadata": {},
          "execution_count": 70
        }
      ]
    },
    {
      "cell_type": "markdown",
      "source": [
        "Bạn có thể xóa một khoản dựa vào toán tử lấy khoản\n",
        "`[start:end]` . Ví dụ:"
      ],
      "metadata": {
        "id": "TVt0VwiWTQY-"
      }
    },
    {
      "cell_type": "code",
      "source": [
        "del(mylist[1:2])\n",
        "mylist"
      ],
      "metadata": {
        "colab": {
          "base_uri": "https://localhost:8080/"
        },
        "id": "ivGBaj_CTPio",
        "outputId": "5c4de52a-893f-44f0-87a1-51aad67a3cfb"
      },
      "execution_count": 71,
      "outputs": [
        {
          "output_type": "execute_result",
          "data": {
            "text/plain": [
              "['b', 'd']"
            ]
          },
          "metadata": {},
          "execution_count": 71
        }
      ]
    },
    {
      "cell_type": "markdown",
      "source": [
        "## Nối 2 mảng\n",
        "Bạn có thể sử dụng toán tử `+` để nối giá trị của 2 mảng và\n",
        "tạo ra một mảng lớn có số lượng phần tử là tổng số lượng\n",
        "phần tử của 2 mảng con. Ví dụ:"
      ],
      "metadata": {
        "id": "IrPPrLB4UOIl"
      }
    },
    {
      "cell_type": "code",
      "source": [
        "a = [1, 2]\n",
        "b = [1, 3]\n",
        "\n",
        "print(a + b)"
      ],
      "metadata": {
        "colab": {
          "base_uri": "https://localhost:8080/"
        },
        "id": "q5zPwRxBUVYG",
        "outputId": "6fa781d2-4559-4860-e21c-d913610091f6"
      },
      "execution_count": 72,
      "outputs": [
        {
          "output_type": "stream",
          "name": "stdout",
          "text": [
            "[1, 2, 1, 3]\n"
          ]
        }
      ]
    },
    {
      "cell_type": "markdown",
      "source": [
        "##3. Lưu ý: Phân biệt List và Array\n",
        "\n",
        "Mặc dù danh sách (`list`) trong Python có cấu trúc giống mảng (array), nhưng list và array vẫn có một số khác biệt quan trọng cần lưu ý:\n",
        "\n",
        "1. **Khả năng thay đổi kích thước:**\n",
        "   - Danh sách (`list`): Cho phép thêm, xóa và sửa đổi kích thước của danh sách một cách linh hoạt. Bạn có thể thực hiện các thao tác như `append()`, `remove()`, và `pop()` để thay đổi nội dung của danh sách.\n",
        "   - Mảng (`array`): Kích thước của mảng là cố định và không thể thay đổi sau khi khai báo. Ví dụ như bạn không thể thực hiện các thao tác như `append()` trực tiếp trên mảng.\n",
        "\n",
        "2. **Kiểu dữ liệu:**\n",
        "   - Danh sách (`list`): Có thể chứa các phần tử của bất kỳ kiểu dữ liệu nào trong Python, và thậm chí có thể chứa các kiểu dữ liệu khác nhau trong cùng một danh sách.<br>\n",
        "   Ví dụ: MyList = [1, \"Hello\", 3.6, [2,3,4]]\n",
        "   - Mảng (`array`): Yêu cầu tất cả các phần tử của mảng phải có cùng kiểu dữ liệu.<br>\n",
        "   Ví dụ: MyArray = [1,2,3,4,5]\n",
        "\n"
      ],
      "metadata": {
        "id": "_-cczbNOMvl-"
      }
    },
    {
      "cell_type": "code",
      "source": [
        "# Sử dụng danh sách\n",
        "my_list = [1, 'two', 3.0, [4, 5]]\n",
        "my_list.append(6)  # OK\n",
        "print(my_list)\n",
        "\n"
      ],
      "metadata": {
        "id": "5iCmTGMWOQoU",
        "colab": {
          "base_uri": "https://localhost:8080/"
        },
        "outputId": "f39b4f2c-f18f-4119-a3a5-c2817d65b8d5"
      },
      "execution_count": 73,
      "outputs": [
        {
          "output_type": "stream",
          "name": "stdout",
          "text": [
            "[1, 'two', 3.0, [4, 5], 6]\n"
          ]
        }
      ]
    },
    {
      "cell_type": "code",
      "source": [
        "# Sử dụng mảng\n",
        "from array import array\n",
        "my_array = array('i', [1, 2, 3, 4])\n",
        "my_array.append(5)  # Lỗi! Phương thức 'append' không tồn tại cho mảng\n",
        "print(my_array)"
      ],
      "metadata": {
        "id": "z9YPP1hROSGL",
        "colab": {
          "base_uri": "https://localhost:8080/"
        },
        "outputId": "88c987d3-6d21-45cd-db1d-91eb53fac60e"
      },
      "execution_count": 74,
      "outputs": [
        {
          "output_type": "stream",
          "name": "stdout",
          "text": [
            "array('i', [1, 2, 3, 4, 5])\n"
          ]
        }
      ]
    },
    {
      "cell_type": "markdown",
      "source": [
        "#II. Các phương thức List trong Python:"
      ],
      "metadata": {
        "id": "LXVXqN9FWcjO"
      }
    },
    {
      "cell_type": "markdown",
      "source": [
        "##1. Thêm phần tử vào danh sách\n",
        "Nếu bạn muốn thêm phần tử vào một danh sách đã tồn tại, hãy\n",
        "dùng phương thức `list.append(newvalue)` để thêm phần\n",
        "tử có giá trị `newvalue` vào cuối danh sách `list` . Ví dụ:"
      ],
      "metadata": {
        "id": "y_Avi8EZUYrp"
      }
    },
    {
      "cell_type": "code",
      "source": [
        "numbers = [1, 2, 3]\n",
        "numbers.append(4)\n",
        "\n",
        "numbers"
      ],
      "metadata": {
        "colab": {
          "base_uri": "https://localhost:8080/"
        },
        "id": "EtvHP9tBUe-k",
        "outputId": "ce405d7f-4b59-437d-fc93-59665e4c6a6a"
      },
      "execution_count": 75,
      "outputs": [
        {
          "output_type": "execute_result",
          "data": {
            "text/plain": [
              "[1, 2, 3, 4]"
            ]
          },
          "metadata": {},
          "execution_count": 75
        }
      ]
    },
    {
      "cell_type": "markdown",
      "source": [
        "##2. Xóa tất cả các phần tử khỏi danh sách"
      ],
      "metadata": {
        "id": "qA98fYR2Hi3m"
      }
    },
    {
      "cell_type": "markdown",
      "source": [
        "Nếu muốn xóa tất cả các phần tử khỏi danh sách, có thể sử dụng phương thức list.clear(), danh sách sẽ trở thành rỗng."
      ],
      "metadata": {
        "id": "LlZRWaxiParJ"
      }
    },
    {
      "cell_type": "code",
      "source": [
        "mylist = [1, 2, 3, 4, 5]\n",
        "mylist.clear()\n",
        "\n",
        "print(mylist)"
      ],
      "metadata": {
        "id": "KuujAWeyQNCI",
        "colab": {
          "base_uri": "https://localhost:8080/"
        },
        "outputId": "46fc6709-754e-42d8-e68c-eeb320662367"
      },
      "execution_count": 76,
      "outputs": [
        {
          "output_type": "stream",
          "name": "stdout",
          "text": [
            "[]\n"
          ]
        }
      ]
    },
    {
      "cell_type": "markdown",
      "source": [
        "##3. Tạo một bản sao của danh sách"
      ],
      "metadata": {
        "id": "jYWIV2JnQYso"
      }
    },
    {
      "cell_type": "markdown",
      "source": [
        "Để tạo một bản sao của danh sách, bạn có thể sử dụng phương thức list.copy(). Phương thức này trả về một bản sao của danh sách gốc mà không làm thay đổi danh sách gốc."
      ],
      "metadata": {
        "id": "PlnyYd6tQjCo"
      }
    },
    {
      "cell_type": "code",
      "source": [
        "mylist = [1, 2, 3, 4, 5]\n",
        "copied_list = mylist.copy()\n",
        "\n",
        "print(copied_list)\n"
      ],
      "metadata": {
        "id": "1uhqmK1HQpjz",
        "colab": {
          "base_uri": "https://localhost:8080/"
        },
        "outputId": "c4742e00-aa97-4507-a084-b74a3d3506ed"
      },
      "execution_count": 77,
      "outputs": [
        {
          "output_type": "stream",
          "name": "stdout",
          "text": [
            "[1, 2, 3, 4, 5]\n"
          ]
        }
      ]
    },
    {
      "cell_type": "markdown",
      "source": [
        "##4. Đếm số lần xuất hiện của một phần tử trong danh sách"
      ],
      "metadata": {
        "id": "oiRJegXkQ4c-"
      }
    },
    {
      "cell_type": "markdown",
      "source": [
        "Để đếm số lần xuất hiện của một phần tử trong danh sách, bạn có thể sử dụng phương thức list.count(element). Phương thức này trả về số lần xuất hiện của phần tử đã cho trong danh sách."
      ],
      "metadata": {
        "id": "34ihWzb6Q1Pb"
      }
    },
    {
      "cell_type": "code",
      "source": [
        "mylist = [1, 2, 2, 3, 3, 3]\n",
        "count_of_2 = mylist.count(2)\n",
        "\n",
        "print(count_of_2)"
      ],
      "metadata": {
        "id": "tsxdNe3mQhq4",
        "colab": {
          "base_uri": "https://localhost:8080/"
        },
        "outputId": "4c981e95-5196-42ee-a4ce-e603468b7112"
      },
      "execution_count": 78,
      "outputs": [
        {
          "output_type": "stream",
          "name": "stdout",
          "text": [
            "2\n"
          ]
        }
      ]
    },
    {
      "cell_type": "markdown",
      "source": [
        "##5. Mở rộng danh sách"
      ],
      "metadata": {
        "id": "Qo_8kvUNRjvg"
      }
    },
    {
      "cell_type": "markdown",
      "source": [
        "Để mở rộng danh sách bằng cách thêm các phần tử của một iterable khác vào cuối danh sách, bạn có thể sử dụng phương thức list.extend(iterable). Các phần tử của iterable sẽ được thêm vào cuối danh sách gốc."
      ],
      "metadata": {
        "id": "mCi9rAcuREsY"
      }
    },
    {
      "cell_type": "code",
      "source": [
        "mylist = [1, 2, 3]\n",
        "yourlist = [4, 5, 6]\n",
        "\n",
        "mylist.extend(yourlist)\n",
        "\n",
        "print(mylist)\n"
      ],
      "metadata": {
        "id": "Unsc8UceRS9l",
        "colab": {
          "base_uri": "https://localhost:8080/"
        },
        "outputId": "4e475690-7e8d-4492-b5e4-b23ed4f9d437"
      },
      "execution_count": 79,
      "outputs": [
        {
          "output_type": "stream",
          "name": "stdout",
          "text": [
            "[1, 2, 3, 4, 5, 6]\n"
          ]
        }
      ]
    },
    {
      "cell_type": "markdown",
      "source": [
        "##6. Tìm một giá trị trong danh sách"
      ],
      "metadata": {
        "id": "Qgp8qGm8WFjp"
      }
    },
    {
      "cell_type": "markdown",
      "source": [
        "Nếu bạn muốn tìm vị trí (index) của một giá trị trong một danh sách, có thể dùng phương thức `list.index(obj)` . Nếu tìm thấy sẽ trả về index của phần tử đầu tiên tìm thấy. Nếu không tìm thấy sẽ quăng Exception. Ví dụ:"
      ],
      "metadata": {
        "id": "WvHti57AWHKV"
      }
    },
    {
      "cell_type": "code",
      "source": [
        "aList = [123,'xyz','zara','abc'];\n",
        "\n",
        "print(\"Index for xyz : \", aList.index('xyz'))\n",
        "print(\"Index for zara : \", aList.index('zara'))"
      ],
      "metadata": {
        "colab": {
          "base_uri": "https://localhost:8080/"
        },
        "id": "A9aK8zyZWPUJ",
        "outputId": "aef747c9-3651-4de3-b533-c39322aac65d"
      },
      "execution_count": 80,
      "outputs": [
        {
          "output_type": "stream",
          "name": "stdout",
          "text": [
            "Index for xyz :  1\n",
            "Index for zara :  2\n"
          ]
        }
      ]
    },
    {
      "cell_type": "markdown",
      "source": [
        "##7. Chèn một phần tử vào vị trí được chỉ định trong danh sách"
      ],
      "metadata": {
        "id": "uBbGDDhnR3Uj"
      }
    },
    {
      "cell_type": "markdown",
      "source": [
        "Để chèn một phần tử vào vị trí được chỉ định trong danh sách, bạn có thể sử dụng phương thức list.insert(index, element). Phương thức này chèn phần tử vào vị trí đã chỉ định và dịch chuyển các phần tử còn lại sang phải."
      ],
      "metadata": {
        "id": "YQKx_URbR0UE"
      }
    },
    {
      "cell_type": "code",
      "source": [
        "mylist = [1, 2, 3, 4]\n",
        "mylist.insert(2, 'x')\n",
        "\n",
        "print(mylist)"
      ],
      "metadata": {
        "id": "p7fzSKyNSKJa",
        "colab": {
          "base_uri": "https://localhost:8080/"
        },
        "outputId": "3ce5204b-a68e-4f04-e310-b26cffac5a84"
      },
      "execution_count": 81,
      "outputs": [
        {
          "output_type": "stream",
          "name": "stdout",
          "text": [
            "[1, 2, 'x', 3, 4]\n"
          ]
        }
      ]
    },
    {
      "cell_type": "markdown",
      "source": [
        "##8. Lấy phần tử cuối danh sách"
      ],
      "metadata": {
        "id": "6A0OfQj7Un03"
      }
    },
    {
      "cell_type": "markdown",
      "source": [
        "Nếu muốn lấy phần tử cuối cùng của danh sách ra khỏi danh sách,\n",
        "có thể sử dụng phương thức `list.pop()` , sẽ trả về giá trị\n",
        "của phần tử cuối cùng và danh sách bây giờ sẽ không còn phần\n",
        "tử này."
      ],
      "metadata": {
        "id": "aXkAmaHmV34K"
      }
    },
    {
      "cell_type": "code",
      "source": [
        "numbers = [1, 2, 3]\n",
        "mynumber = numbers.pop()\n",
        "\n",
        "numbers"
      ],
      "metadata": {
        "colab": {
          "base_uri": "https://localhost:8080/"
        },
        "id": "IFFCk8GDUl8h",
        "outputId": "32e89960-49c5-4099-ca50-a246815b4d27"
      },
      "execution_count": 82,
      "outputs": [
        {
          "output_type": "execute_result",
          "data": {
            "text/plain": [
              "[1, 2]"
            ]
          },
          "metadata": {},
          "execution_count": 82
        }
      ]
    },
    {
      "cell_type": "code",
      "source": [
        "mynumber"
      ],
      "metadata": {
        "colab": {
          "base_uri": "https://localhost:8080/"
        },
        "id": "gd37lvkMUow1",
        "outputId": "7f05b423-131d-47c5-8f55-6b287ad1382d"
      },
      "execution_count": 83,
      "outputs": [
        {
          "output_type": "execute_result",
          "data": {
            "text/plain": [
              "3"
            ]
          },
          "metadata": {},
          "execution_count": 83
        }
      ]
    },
    {
      "cell_type": "markdown",
      "source": [
        "##9. Xóa một phần tử được chỉ định khỏi danh sách"
      ],
      "metadata": {
        "id": "-_hvGCaPSwlK"
      }
    },
    {
      "cell_type": "markdown",
      "source": [
        "Để xóa phần tử đầu tiên có giá trị là element khỏi danh sách, bạn có thể sử dụng phương thức list.remove(element). Phương thức này sẽ xóa phần tử đầu tiên có giá trị đã cho khỏi danh sách."
      ],
      "metadata": {
        "id": "qLBjnL0hSpe9"
      }
    },
    {
      "cell_type": "code",
      "source": [
        "mylist = [1, 2, 3, 4, 3]\n",
        "mylist.remove(3)\n",
        "\n",
        "print(mylist)"
      ],
      "metadata": {
        "id": "kETaiTiNS8u1",
        "colab": {
          "base_uri": "https://localhost:8080/"
        },
        "outputId": "7eace17a-7a6b-4c71-e445-907757be2d01"
      },
      "execution_count": 84,
      "outputs": [
        {
          "output_type": "stream",
          "name": "stdout",
          "text": [
            "[1, 2, 4, 3]\n"
          ]
        }
      ]
    },
    {
      "cell_type": "markdown",
      "source": [
        "##10. Đảo ngược giá trị của danh sách\n",
        "\n"
      ],
      "metadata": {
        "id": "XcOgBmw2WXvC"
      }
    },
    {
      "cell_type": "markdown",
      "source": [
        "Để đảo ngược thứ tự các giá trị của một danh sách, sử dụng phương thức list.reverse(). Phương thức này không trả về kết quả mà thay đổi trực tiếp danh sách list. Ví dụ:"
      ],
      "metadata": {
        "id": "7z-tXdNiWdBh"
      }
    },
    {
      "cell_type": "code",
      "source": [
        "numbers = [1, 2, 3, 4]\n",
        "numbers.reverse()\n",
        "\n",
        "numbers"
      ],
      "metadata": {
        "colab": {
          "base_uri": "https://localhost:8080/"
        },
        "id": "cIraA6amWm_i",
        "outputId": "51b2f794-f2d5-4022-b591-9ecdeb86b8da"
      },
      "execution_count": 85,
      "outputs": [
        {
          "output_type": "execute_result",
          "data": {
            "text/plain": [
              "[4, 3, 2, 1]"
            ]
          },
          "metadata": {},
          "execution_count": 85
        }
      ]
    },
    {
      "cell_type": "markdown",
      "source": [
        "##11. Sắp xếp giá trị các phần tử"
      ],
      "metadata": {
        "id": "BMrQbKUqWuMe"
      }
    },
    {
      "cell_type": "markdown",
      "source": [
        "Để sắp xếp thứ tự của giá trị trong danh sách, sử dụng phương\n",
        "thức `list.sort([func])` để sắp xếp. Nếu tham số đầu\n",
        "vào là hàm func không truyền vào thì mặc định là sắp xếp\n",
        "theo giá trị tăng dần. Phương thức này không trả về kết\n",
        "quả mà thay đổi trực tiếp danh sách list . Ví dụ:"
      ],
      "metadata": {
        "id": "aD_9MteLWwoe"
      }
    },
    {
      "cell_type": "code",
      "source": [
        "aList = [3,4,1,2];\n",
        "aList.sort()\n",
        "\n",
        "aList"
      ],
      "metadata": {
        "colab": {
          "base_uri": "https://localhost:8080/"
        },
        "id": "vF3MrCVdWtcJ",
        "outputId": "1750abbb-5860-417b-ae53-4f307c93611d"
      },
      "execution_count": 86,
      "outputs": [
        {
          "output_type": "execute_result",
          "data": {
            "text/plain": [
              "[1, 2, 3, 4]"
            ]
          },
          "metadata": {},
          "execution_count": 86
        }
      ]
    },
    {
      "cell_type": "markdown",
      "source": [
        "## Tổng hợp các phương thức List trong Python\n",
        "\n",
        "<table class=\"alt\">\n",
        "<tbody>\n",
        "<tr>\n",
        "<th>Phương thức</th>\n",
        "<th>Mô tả</th>\n",
        "</tr>\n",
        "<tr><td>append(<i>element</i>)</td><td>Thêm một phần tử vào cuối danh sách</td></tr>\n",
        "<tr><td>clear()</td><td>Xóa tất cả các phần tử trong danh sách</td></tr>\n",
        "<tr><td>copy()</td><td>Trả về một bản sao của danh sách</td></tr>\n",
        "<tr><td>count(<i>element</i>)</td><td>Đếm số lần xuất hiện của một phần tử trong danh sách</td></tr>\n",
        "<tr><td>extend(<i>iterable</i>)</td><td>Mở rộng danh sách bằng cách thêm các phần tử của một iterable (ví dụ: danh sách hoặc tuple)</td></tr>\n",
        "<tr><td>index(<i>element</i>)</td><td>Trả về chỉ mục đầu tiên của một phần tử trong danh sách. Nếu không tìm thấy, sẽ ném ra một ngoại lệ ValueError.</td></tr>\n",
        "<tr><td>insert(<i>index, element</i>)</td><td>Chèn một phần tử vào vị trí được chỉ định trong danh sách</td></tr>\n",
        "<tr><td>pop()</td><td>Xóa và trả về phần tử cuối cùng của danh sách</td></tr>\n",
        "<tr><td>remove(<i>element</i>)</td><td>Xóa phần tử đầu tiên có giá trị là <i>element</i> khỏi danh sách. Nếu không tìm thấy, sẽ ném ra một ngoại lệ ValueError.</td></tr>\n",
        "<tr><td>reverse()</td><td>Đảo ngược thứ tự các phần tử trong danh sách</td></tr>\n",
        "<tr><td>sort()</td><td>Sắp xếp các phần tử của danh sách theo thứ tự tăng dần. Đối số key và reverse có thể được cung cấp để tùy chỉnh việc sắp xếp.</td></tr>\n",
        "</tbody></table>\n"
      ],
      "metadata": {
        "id": "wHfVFLZvAl7C"
      }
    },
    {
      "cell_type": "markdown",
      "source": [
        "#III. Bài tập về List"
      ],
      "metadata": {
        "id": "GpI5HiS3AEf9"
      }
    },
    {
      "cell_type": "markdown",
      "source": [
        "##1. Bài tập"
      ],
      "metadata": {
        "id": "qRca7A_TYkXA"
      }
    },
    {
      "cell_type": "markdown",
      "source": [
        "### Bài tập 1: Quản lý tiệm vàng\n",
        "\n",
        "Bạn đang quản lý một tiệm vàng. Mỗi ngày, bạn cần phải kiểm kê và quản lý số lượng các loại trang sức như vòng, nhẫn, dây chuyền, bông tai.\n",
        "\n",
        "**Yêu cầu:**\n",
        "1. Tạo một danh sách các loại trang sức hiện có trong tiệm vàng của bạn.\n",
        "2. Một lô hàng trang sức mới vừa được giao, bao gồm nhiều loại trang sức khác nhau. Hãy thêm lô hàng này vào kho của tiệm vàng bằng cách sử dụng `extend()`.\n",
        "3. Đếm xem có bao nhiêu mặt hàng \"nhẫn\" trong tiệm vàng và in ra kết quả.\n",
        "4. In ra danh sách trang sức sau khi đã thêm lô hàng mới.\n",
        "\n"
      ],
      "metadata": {
        "id": "--P_oBuHAMkw"
      }
    },
    {
      "cell_type": "code",
      "source": [
        "'''\n",
        "Giả sử:\n",
        "Danh sách ban đầu: [\"vòng\", \"nhẫn\", \"dây chuyền\"]\n",
        "Lô hàng mới: [\"nhẫn\", \"bông tai\", \"nhẫn\", \"vòng\"]\n",
        "'''"
      ],
      "metadata": {
        "id": "MgdhdQESHPaY",
        "colab": {
          "base_uri": "https://localhost:8080/",
          "height": 35
        },
        "outputId": "77338bc9-e3d9-44b2-918f-aefd1a22e39f"
      },
      "execution_count": 87,
      "outputs": [
        {
          "output_type": "execute_result",
          "data": {
            "text/plain": [
              "'\\nGiả sử:\\nDanh sách ban đầu: [\"vòng\", \"nhẫn\", \"dây chuyền\"]\\nLô hàng mới: [\"nhẫn\", \"bông tai\", \"nhẫn\", \"vòng\"]\\n'"
            ],
            "application/vnd.google.colaboratory.intrinsic+json": {
              "type": "string"
            }
          },
          "metadata": {},
          "execution_count": 87
        }
      ]
    },
    {
      "cell_type": "markdown",
      "source": [
        "### Bài tập 2: Quản lý điểm số học sinh\n",
        "\n",
        "Bạn là giáo viên đội tuyển tiếng Anh, đội vừa tuyển được 3 học sinh với số điểm thi lần lượt là 9.5, 9.6, 10. Bạn cần quản lý điểm số của học sinh trong đội tuyển.\n",
        "\n",
        "**Yêu cầu:**\n",
        "1. Tạo một danh sách để lưu điểm số của các học sinh.\n",
        "2. Đội tuyển vừa được bổ sung thêm 1 bạn với điểm thi là 9.4, hãy ghi lại điểm số vào danh sách.\n",
        "3. In ra điểm số cao nhất trong danh sách.\n",
        "4. In ra danh sách điểm số của tất cả các học sinh, sắp xếp từ điểm số cao nhất đến thấp nhất."
      ],
      "metadata": {
        "id": "6CNWjyafAW_a"
      }
    },
    {
      "cell_type": "markdown",
      "source": [
        "###Bài tập 3: Quản lý Công Việc và Deadline\n",
        "Tiệm vàng phá sản và lương giáo viên không đủ sống, bạn phải làm thêm nhân viên văn phòng. Hiện tại bạn đang bị quá tải deadline và phải overtime không lương. Do đó, bạn cảm thấy cần sắp xếp lại danh sách công việc.\n",
        "\n",
        "Yêu cầu:\n",
        "\n",
        "1. Tạo một danh sách để lưu các công việc cần hoàn thành.\n",
        "\n",
        "2. Đảo ngược thứ tự của danh sách để công việc mới nhất lên đầu.\n",
        "\n",
        "3. Mỗi khi một công việc mới được giao, bạn cần thêm công việc đó đầu danh sách.\n",
        "\n",
        "4. Một công việc đã hoàn thành và bạn cần loại bỏ nó khỏi danh sách.\n",
        "\n",
        "5. In ra danh sách làm việc còn lại.\n",
        "\n"
      ],
      "metadata": {
        "id": "OzsaknVZEzTx"
      }
    },
    {
      "cell_type": "code",
      "source": [
        "'''\n",
        "Giả sử:\n",
        "Danh sách công việc ban đầu: [\"Viết báo cáo\", \"18-03-2024\"], [\"Chuẩn bị slide\", \"18-03-2024\"], [\"Gặp sếp\", \"19-03-2024\"]\n",
        "Công việc mới: [\"Gặp khách hàng\", \"20-03-2024\"]\n",
        "'''\n"
      ],
      "metadata": {
        "id": "zyFsxIriPzNv",
        "colab": {
          "base_uri": "https://localhost:8080/",
          "height": 35
        },
        "outputId": "1a0f388f-fd4f-4155-c667-0eaddf44f74b"
      },
      "execution_count": 88,
      "outputs": [
        {
          "output_type": "execute_result",
          "data": {
            "text/plain": [
              "'\\nGiả sử:\\nDanh sách công việc ban đầu: [\"Viết báo cáo\", \"18-03-2024\"], [\"Chuẩn bị slide\", \"18-03-2024\"], [\"Gặp sếp\", \"19-03-2024\"]\\nCông việc mới: [\"Gặp khách hàng\", \"20-03-2024\"]\\n'"
            ],
            "application/vnd.google.colaboratory.intrinsic+json": {
              "type": "string"
            }
          },
          "metadata": {},
          "execution_count": 88
        }
      ]
    },
    {
      "cell_type": "markdown",
      "source": [
        "##2. Answer"
      ],
      "metadata": {
        "id": "iZBXZU0XY2_S"
      }
    },
    {
      "cell_type": "markdown",
      "source": [
        "### Bài tập 1: Quản lý tiệm vàng\n",
        "\n",
        "Bạn đang quản lý một tiệm vàng. Mỗi ngày, bạn cần phải kiểm kê và quản lý số lượng các loại trang sức như vòng, nhẫn, dây chuyền, bông tai.\n",
        "\n",
        "**Yêu cầu:**\n",
        "1. Tạo một danh sách các loại trang sức hiện có trong tiệm vàng của bạn.\n",
        "2. Một lô hàng trang sức mới vừa được giao, bao gồm nhiều loại trang sức khác nhau. Hãy thêm lô hàng này vào kho của tiệm vàng bằng cách sử dụng `extend()`.\n",
        "3. Đếm xem có bao nhiêu mặt hàng \"nhẫn\" trong tiệm vàng và in ra kết quả.\n",
        "4. In ra danh sách trang sức sau khi đã thêm lô hàng mới.\n",
        "\n"
      ],
      "metadata": {
        "id": "IWDh2R-RZyBn"
      }
    },
    {
      "cell_type": "code",
      "source": [
        "'''\n",
        "Giả sử:\n",
        "Danh sách ban đầu: [\"vòng\", \"nhẫn\", \"dây chuyền\"]\n",
        "Lô hàng mới: [\"nhẫn\", \"bông tai\", \"nhẫn\", \"vòng\"]\n",
        "'''"
      ],
      "metadata": {
        "colab": {
          "base_uri": "https://localhost:8080/",
          "height": 35
        },
        "id": "Hwy1ykbOZMCU",
        "outputId": "a4dc6397-ca7f-4eef-8b7b-a6215292fb33"
      },
      "execution_count": 89,
      "outputs": [
        {
          "output_type": "execute_result",
          "data": {
            "text/plain": [
              "'\\nGiả sử:\\nDanh sách ban đầu: [\"vòng\", \"nhẫn\", \"dây chuyền\"]\\nLô hàng mới: [\"nhẫn\", \"bông tai\", \"nhẫn\", \"vòng\"]\\n'"
            ],
            "application/vnd.google.colaboratory.intrinsic+json": {
              "type": "string"
            }
          },
          "metadata": {},
          "execution_count": 89
        }
      ]
    },
    {
      "cell_type": "code",
      "source": [
        "# 1. Danh sách trang sức ban đầu trong tiệm vàng\n",
        "trang_suc = [\"vòng\", \"nhẫn\", \"dây chuyền\"]"
      ],
      "metadata": {
        "id": "zjlEt0m_XeYX"
      },
      "execution_count": 90,
      "outputs": []
    },
    {
      "cell_type": "code",
      "source": [
        "print(trang_suc)"
      ],
      "metadata": {
        "id": "TuhbMMZaXhS_",
        "colab": {
          "base_uri": "https://localhost:8080/"
        },
        "outputId": "7d4116b8-4474-415c-a283-c52d72eeb6e6"
      },
      "execution_count": 91,
      "outputs": [
        {
          "output_type": "stream",
          "name": "stdout",
          "text": [
            "['vòng', 'nhẫn', 'dây chuyền']\n"
          ]
        }
      ]
    },
    {
      "cell_type": "code",
      "source": [
        "# 2. Lô hàng trang sức mới\n",
        "lo_hang_moi = [\"nhẫn\", \"bông tai\", \"nhẫn\", \"vòng\"]\n",
        "trang_suc.extend(lo_hang_moi)"
      ],
      "metadata": {
        "id": "QwDSg5K9Xj50"
      },
      "execution_count": 92,
      "outputs": []
    },
    {
      "cell_type": "code",
      "source": [
        "print(trang_suc)"
      ],
      "metadata": {
        "id": "0fvdaZaQXm92",
        "colab": {
          "base_uri": "https://localhost:8080/"
        },
        "outputId": "0a38b47e-4f0a-490e-9fd0-cc2b1a64b7a3"
      },
      "execution_count": 93,
      "outputs": [
        {
          "output_type": "stream",
          "name": "stdout",
          "text": [
            "['vòng', 'nhẫn', 'dây chuyền', 'nhẫn', 'bông tai', 'nhẫn', 'vòng']\n"
          ]
        }
      ]
    },
    {
      "cell_type": "code",
      "source": [
        "# 3. Đếm số lượng \"nhẫn\"\n",
        "so_luong_nhan = trang_suc.count(\"nhẫn\")\n",
        "print(f\"Số lượng nhẫn trong tiệm vàng hiện tại: {so_luong_nhan}\")"
      ],
      "metadata": {
        "id": "-1C4ZrUQXoP1",
        "colab": {
          "base_uri": "https://localhost:8080/"
        },
        "outputId": "a4703f9b-7378-4478-e9de-3e233c78bb66"
      },
      "execution_count": 94,
      "outputs": [
        {
          "output_type": "stream",
          "name": "stdout",
          "text": [
            "Số lượng nhẫn trong tiệm vàng hiện tại: 3\n"
          ]
        }
      ]
    },
    {
      "cell_type": "code",
      "source": [
        "# 4. In ra danh sách trang sức sau khi thêm mới\n",
        "print(\"Danh sách trang sức sau khi thêm lô hàng mới:\", trang_suc)"
      ],
      "metadata": {
        "id": "ybTBdgR0Xsc0",
        "colab": {
          "base_uri": "https://localhost:8080/"
        },
        "outputId": "22c4d1cc-702d-4935-bfda-6e007db54abf"
      },
      "execution_count": 95,
      "outputs": [
        {
          "output_type": "stream",
          "name": "stdout",
          "text": [
            "Danh sách trang sức sau khi thêm lô hàng mới: ['vòng', 'nhẫn', 'dây chuyền', 'nhẫn', 'bông tai', 'nhẫn', 'vòng']\n"
          ]
        }
      ]
    },
    {
      "cell_type": "markdown",
      "source": [
        "### Bài tập 2: Quản lý điểm số học sinh\n",
        "\n",
        "Bạn là giáo viên đội tuyển tiếng Anh, đội vừa tuyển được 3 học sinh với số điểm thi lần lượt là 9.5, 9.6, 10. Bạn cần quản lý điểm số của học sinh trong đội tuyển.\n",
        "\n",
        "**Yêu cầu:**\n",
        "1. Tạo một danh sách để lưu điểm số của các học sinh.\n",
        "2. Đội tuyển vừa được bổ sung thêm 1 bạn với điểm thi là 9.4, hãy ghi lại điểm số vào danh sách.\n",
        "3. In ra điểm số cao nhất trong danh sách.\n",
        "4. In ra danh sách điểm số của tất cả các học sinh, sắp xếp từ điểm số cao nhất đến thấp nhất."
      ],
      "metadata": {
        "id": "2QiD2PK-Z6nO"
      }
    },
    {
      "cell_type": "code",
      "source": [
        "# 1. Danh sách điểm số ban đầu của các học sinh\n",
        "diem = [9.5, 9.6, 10]\n"
      ],
      "metadata": {
        "id": "KVwz0aYrbf7Y"
      },
      "execution_count": 96,
      "outputs": []
    },
    {
      "cell_type": "code",
      "source": [
        "print(diem)"
      ],
      "metadata": {
        "colab": {
          "base_uri": "https://localhost:8080/"
        },
        "outputId": "0eb39529-31cb-43d6-c969-2e9de1187e06",
        "id": "i9CN-Cc4bf7l"
      },
      "execution_count": 97,
      "outputs": [
        {
          "output_type": "stream",
          "name": "stdout",
          "text": [
            "[9.5, 9.6, 10]\n"
          ]
        }
      ]
    },
    {
      "cell_type": "code",
      "source": [
        "# 2. Bổ sung thêm một bạn mới với điểm số là 9.4\n",
        "diem.append(9.4)"
      ],
      "metadata": {
        "id": "xfJrvN-vbf7l"
      },
      "execution_count": 98,
      "outputs": []
    },
    {
      "cell_type": "code",
      "source": [
        "print(diem)"
      ],
      "metadata": {
        "colab": {
          "base_uri": "https://localhost:8080/"
        },
        "outputId": "4e699ad1-9dd7-4b8b-ff75-1c7dbe9be198",
        "id": "qS4IPZXgbf7l"
      },
      "execution_count": 99,
      "outputs": [
        {
          "output_type": "stream",
          "name": "stdout",
          "text": [
            "[9.5, 9.6, 10, 9.4]\n"
          ]
        }
      ]
    },
    {
      "cell_type": "code",
      "source": [
        "# 3. In ra điểm số cao nhất trong danh sách\n",
        "diem_cao_nhat = max(diem)\n",
        "print(\"Điểm số cao nhất trong danh sách là:\", diem_cao_nhat)"
      ],
      "metadata": {
        "colab": {
          "base_uri": "https://localhost:8080/"
        },
        "outputId": "1c37aacd-bce1-4199-b56b-2d156b89be36",
        "id": "_ojJzPq8bf7l"
      },
      "execution_count": 100,
      "outputs": [
        {
          "output_type": "stream",
          "name": "stdout",
          "text": [
            "Điểm số cao nhất trong danh sách là: 10\n"
          ]
        }
      ]
    },
    {
      "cell_type": "code",
      "source": [
        "# 4. Sắp xếp danh sách điểm số từ cao đến thấp\n",
        "diem.sort(reverse=True)\n",
        "\n",
        "# In ra danh sách điểm số của tất cả các học sinh\n",
        "print(\"Danh sách điểm số của tất cả các học sinh:\")\n",
        "for d in diem:\n",
        "    print(d)"
      ],
      "metadata": {
        "colab": {
          "base_uri": "https://localhost:8080/"
        },
        "outputId": "b9da4a49-8e84-4721-bb3f-00ac7b244523",
        "id": "LSX_mudzbf7l"
      },
      "execution_count": 101,
      "outputs": [
        {
          "output_type": "stream",
          "name": "stdout",
          "text": [
            "Danh sách điểm số của tất cả các học sinh:\n",
            "10\n",
            "9.6\n",
            "9.5\n",
            "9.4\n"
          ]
        }
      ]
    },
    {
      "cell_type": "markdown",
      "source": [
        "###Bài tập 3: Quản lý Công Việc và Deadline\n",
        "Tiệm vàng phá sản và lương giáo viên không đủ sống, bạn phải làm thêm nhân viên văn phòng. Hiện tại bạn đang bị quá tải deadline và phải overtime không lương. Do đó, bạn cảm thấy cần sắp xếp lại danh sách công việc.\n",
        "\n",
        "Yêu cầu:\n",
        "\n",
        "1. Tạo một danh sách để lưu các công việc cần hoàn thành.\n",
        "\n",
        "2. Đảo ngược thứ tự của danh sách để công việc mới nhất lên đầu.\n",
        "\n",
        "3. Mỗi khi một công việc mới được giao, bạn cần thêm công việc đó đầu danh sách.\n",
        "\n",
        "4. Một công việc đã hoàn thành và bạn cần loại bỏ nó khỏi danh sách.\n",
        "\n",
        "5. In ra danh sách làm việc còn lại.\n",
        "\n"
      ],
      "metadata": {
        "id": "qAupkxvBaA8d"
      }
    },
    {
      "cell_type": "code",
      "source": [
        "'''\n",
        "Giả sử:\n",
        "Danh sách công việc ban đầu: [\"Viết báo cáo\", \"18-03-2024\"], [\"Chuẩn bị slide\", \"18-03-2024\"], [\"Gặp sếp\", \"19-03-2024\"]\n",
        "Công việc mới: [\"Gặp khách hàng\", \"20-03-2024\"]\n",
        "'''\n"
      ],
      "metadata": {
        "id": "sENy130AZkYy",
        "colab": {
          "base_uri": "https://localhost:8080/",
          "height": 35
        },
        "outputId": "ba788df2-9347-4b17-84be-b83e48bc784a"
      },
      "execution_count": 102,
      "outputs": [
        {
          "output_type": "execute_result",
          "data": {
            "text/plain": [
              "'\\nGiả sử:\\nDanh sách công việc ban đầu: [\"Viết báo cáo\", \"18-03-2024\"], [\"Chuẩn bị slide\", \"18-03-2024\"], [\"Gặp sếp\", \"19-03-2024\"]\\nCông việc mới: [\"Gặp khách hàng\", \"20-03-2024\"]\\n'"
            ],
            "application/vnd.google.colaboratory.intrinsic+json": {
              "type": "string"
            }
          },
          "metadata": {},
          "execution_count": 102
        }
      ]
    },
    {
      "cell_type": "code",
      "source": [
        "# 1. Danh sách công việc ban đầu và deadline dự kiến\n",
        "danh_sach_cong_viec = [\n",
        "    [\"Viết báo cáo\", \"18-03-2024\"],\n",
        "    [\"Chuẩn bị slide\", \"18-03-2024\"],\n",
        "    [\"Gặp sếp\", \"19-03-2024\"]\n",
        "]\n"
      ],
      "metadata": {
        "id": "Wlgjfxp6R958"
      },
      "execution_count": 103,
      "outputs": []
    },
    {
      "cell_type": "code",
      "source": [
        "print(danh_sach_cong_viec)\n"
      ],
      "metadata": {
        "colab": {
          "base_uri": "https://localhost:8080/"
        },
        "id": "k1qfRJKNR_v1",
        "outputId": "66389220-21d5-4a34-9657-c58cf84d7d0a"
      },
      "execution_count": 104,
      "outputs": [
        {
          "output_type": "stream",
          "name": "stdout",
          "text": [
            "[['Viết báo cáo', '18-03-2024'], ['Chuẩn bị slide', '18-03-2024'], ['Gặp sếp', '19-03-2024']]\n"
          ]
        }
      ]
    },
    {
      "cell_type": "code",
      "source": [
        "# 2. Đảo ngược thứ tự của danh sách để công việc mới nhất lên đầu.\n",
        "danh_sach_cong_viec.reverse()"
      ],
      "metadata": {
        "id": "GxDRV1vYWirX"
      },
      "execution_count": 105,
      "outputs": []
    },
    {
      "cell_type": "code",
      "source": [
        "print(danh_sach_cong_viec)"
      ],
      "metadata": {
        "id": "cj687sqQWju9",
        "colab": {
          "base_uri": "https://localhost:8080/"
        },
        "outputId": "e96bfde2-517b-4cb0-b99f-db6404fd8e0c"
      },
      "execution_count": 106,
      "outputs": [
        {
          "output_type": "stream",
          "name": "stdout",
          "text": [
            "[['Gặp sếp', '19-03-2024'], ['Chuẩn bị slide', '18-03-2024'], ['Viết báo cáo', '18-03-2024']]\n"
          ]
        }
      ]
    },
    {
      "cell_type": "code",
      "source": [
        "# 3. Công việc mới và thêm vào đầu danh sách\n",
        "cong_viec_moi = (\"Gặp khách hàng\", \"20-03-2024\")\n",
        "danh_sach_cong_viec.insert(0, cong_viec_moi)  # Thêm vào đầu danh sách"
      ],
      "metadata": {
        "id": "agSCsbydSI1A"
      },
      "execution_count": 107,
      "outputs": []
    },
    {
      "cell_type": "code",
      "source": [
        "print(danh_sach_cong_viec)"
      ],
      "metadata": {
        "id": "hwvnY21lSPMw",
        "colab": {
          "base_uri": "https://localhost:8080/"
        },
        "outputId": "9b859fca-4eb8-4379-faf2-1e1794bc8ec2"
      },
      "execution_count": 108,
      "outputs": [
        {
          "output_type": "stream",
          "name": "stdout",
          "text": [
            "[('Gặp khách hàng', '20-03-2024'), ['Gặp sếp', '19-03-2024'], ['Chuẩn bị slide', '18-03-2024'], ['Viết báo cáo', '18-03-2024']]\n"
          ]
        }
      ]
    },
    {
      "cell_type": "code",
      "source": [
        "# 4. Loại bỏ một công việc đã hoàn thành\n",
        "danh_sach_cong_viec.pop(-1)  # Loại bỏ công việc cuối cùng trong danh sách"
      ],
      "metadata": {
        "id": "wE2SPGipU0Qv",
        "colab": {
          "base_uri": "https://localhost:8080/"
        },
        "outputId": "e93ab289-74b4-4d4f-cb2b-7fb1b5954926"
      },
      "execution_count": 109,
      "outputs": [
        {
          "output_type": "execute_result",
          "data": {
            "text/plain": [
              "['Viết báo cáo', '18-03-2024']"
            ]
          },
          "metadata": {},
          "execution_count": 109
        }
      ]
    },
    {
      "cell_type": "code",
      "source": [
        "print(danh_sach_cong_viec)"
      ],
      "metadata": {
        "id": "hF_EdJ2XXDM5",
        "colab": {
          "base_uri": "https://localhost:8080/"
        },
        "outputId": "19966616-3dc1-4db1-d2a4-78dbb84ab9c2"
      },
      "execution_count": 110,
      "outputs": [
        {
          "output_type": "stream",
          "name": "stdout",
          "text": [
            "[('Gặp khách hàng', '20-03-2024'), ['Gặp sếp', '19-03-2024'], ['Chuẩn bị slide', '18-03-2024']]\n"
          ]
        }
      ]
    },
    {
      "cell_type": "code",
      "source": [
        "# 5. In ra danh sách làm việc còn lại\n",
        "print(\"Danh sách làm việc còn lại:\")\n",
        "for cong_viec, deadline in danh_sach_cong_viec:\n",
        "    print(f\"- {cong_viec}: {deadline}\")"
      ],
      "metadata": {
        "id": "DYuzSLa3W2hN",
        "colab": {
          "base_uri": "https://localhost:8080/"
        },
        "outputId": "34e3bc3f-7872-468b-ec21-d7d543f5a966"
      },
      "execution_count": 111,
      "outputs": [
        {
          "output_type": "stream",
          "name": "stdout",
          "text": [
            "Danh sách làm việc còn lại:\n",
            "- Gặp khách hàng: 20-03-2024\n",
            "- Gặp sếp: 19-03-2024\n",
            "- Chuẩn bị slide: 18-03-2024\n"
          ]
        }
      ]
    },
    {
      "cell_type": "markdown",
      "source": [
        "#*End*"
      ],
      "metadata": {
        "id": "iPsIYnvhaH9u"
      }
    }
  ]
}