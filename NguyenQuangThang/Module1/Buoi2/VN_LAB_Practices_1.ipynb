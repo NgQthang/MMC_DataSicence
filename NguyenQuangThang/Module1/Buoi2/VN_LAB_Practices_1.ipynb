{
  "nbformat": 4,
  "nbformat_minor": 0,
  "metadata": {
    "colab": {
      "provenance": []
    },
    "kernelspec": {
      "name": "python3",
      "display_name": "Python 3"
    },
    "language_info": {
      "name": "python"
    }
  },
  "cells": [
    {
      "cell_type": "code",
      "execution_count": null,
      "metadata": {
        "colab": {
          "base_uri": "https://localhost:8080/"
        },
        "id": "zneHJAXQ836A",
        "outputId": "e95230eb-0254-4d4e-f921-6d46f7aabc97"
      },
      "outputs": [
        {
          "output_type": "stream",
          "name": "stdout",
          "text": [
            "Nhap vao so thuc(cm): 2\n",
            "5.08  inch\n",
            "60.96  foot\n"
          ]
        }
      ],
      "source": [
        "#Cau1\n",
        "n = float(input(\"Nhap vao so thuc(cm): \"))\n",
        "i = 2.54*n\n",
        "f = 12*i\n",
        "print(i,\" inch\")\n",
        "print(f,\" foot\")"
      ]
    },
    {
      "cell_type": "code",
      "source": [
        "#cau2\n",
        "n1 = int(input(\"Nhap vao so giay: \"))\n",
        "if (n1<0 or n1>68399):\n",
        "  print(\"nhap so giay tu 0 toi 68399! Moi nhap lai\")\n",
        "  n1 = int(input(\"Nhap vao so giay: \"))\n",
        "h = n1//3600\n",
        "m = (n1%3600)//60\n",
        "s = (n1%3600)%60\n",
        "print(\"{:02d}:{:02d}:{:02d}\".format(h,m,s))"
      ],
      "metadata": {
        "colab": {
          "base_uri": "https://localhost:8080/"
        },
        "id": "aYqBlq5D979O",
        "outputId": "1f2346e5-45bb-492f-b3cd-8b52ce4b0f80"
      },
      "execution_count": null,
      "outputs": [
        {
          "output_type": "stream",
          "name": "stdout",
          "text": [
            "Nhap vao so giay: 2\n",
            "00:00:02\n"
          ]
        }
      ]
    },
    {
      "cell_type": "code",
      "source": [
        "#cau3\n",
        "s = []\n",
        "for i in range(4):\n",
        "  n2 = int(input(\"Nhap so nguyen thu {}: \".format(i+1)))\n",
        "  s.append(n2)\n",
        "print(\"max= \",max(s))\n",
        "print(\"mix= \",min(s))\n"
      ],
      "metadata": {
        "colab": {
          "base_uri": "https://localhost:8080/"
        },
        "id": "Awy2h3ePAaMP",
        "outputId": "9f324283-4ef7-4274-c4ba-617c4676ecfe"
      },
      "execution_count": null,
      "outputs": [
        {
          "output_type": "stream",
          "name": "stdout",
          "text": [
            "Nhap so nguyen thu 1: 1\n",
            "Nhap so nguyen thu 2: 2\n",
            "Nhap so nguyen thu 3: 3\n",
            "Nhap so nguyen thu 4: 4\n",
            "max=  4\n",
            "mix=  1\n"
          ]
        }
      ]
    },
    {
      "cell_type": "code",
      "source": [
        "#cau4\n",
        "n3 = int(input(\"nhap vao so tu nhien thu nhat: \"))\n",
        "n4 = int(input(\"nhap vao so tu nhien thu hai: \"))\n",
        "s1 = n3 - n4\n",
        "if (s1 > 0):\n",
        "  print(\"So thu nhat lon hon so thu hai\")\n",
        "else:\n",
        "  print(\"So thu nhat nho hon so thu hai\")"
      ],
      "metadata": {
        "colab": {
          "base_uri": "https://localhost:8080/"
        },
        "id": "ds4IJPiKCu3l",
        "outputId": "26ceb8e3-c2ac-48bb-a614-adf96ba6a2c3"
      },
      "execution_count": null,
      "outputs": [
        {
          "output_type": "stream",
          "name": "stdout",
          "text": [
            "nhap vao so tu nhien thu nhat: 2\n",
            "nhap vao so tu nhien thu hai: 3\n",
            "So thu nhat nho hon so thu hai\n"
          ]
        }
      ]
    },
    {
      "cell_type": "code",
      "source": [
        "#cau5\n",
        "n5 = int(input(\"nhap vao so tu nhien a: \"))\n",
        "n6 = int(input(\"nhap vao so tu nhien b: \"))\n",
        "if (n5%n6 == 0):\n",
        "  print(\"a chia het cho b\")\n",
        "else:\n",
        "  print(\"a khong chia het cho b\")"
      ],
      "metadata": {
        "id": "CeKCPT0xDszx",
        "colab": {
          "base_uri": "https://localhost:8080/"
        },
        "outputId": "0f952923-009e-47fd-955a-289359cb0d0b"
      },
      "execution_count": 3,
      "outputs": [
        {
          "output_type": "stream",
          "name": "stdout",
          "text": [
            "nhap vao so tu nhien a: 4\n",
            "nhap vao so tu nhien b: 2\n",
            "a chia het cho b\n"
          ]
        }
      ]
    },
    {
      "cell_type": "code",
      "source": [
        "n7 = float(input(\"nhap vao diem toan: \"))\n",
        "n8 = float(input(\"nhap vao diem ly: \"))\n",
        "n9 = float(input(\"nhap vao diem hoa: \"))\n",
        "TB = float(n7 * 2 + n8 + n9)/4\n",
        "if TB>=9:\n",
        "  print(\"Loai xuat sac\")\n",
        "elif (TB>=8 and TB<=9):\n",
        "  print(\"Loai Gioi\")\n",
        "elif (TB>=7 and TB<=8):\n",
        "  print(\"Loai Kha\")\n",
        "elif (TB>=6 and TB<=7):\n",
        "  print(\"Loai trung binh kha\")\n",
        "elif (TB>=5 and TB<=6):\n",
        "  print(\"Loai trung binh\")\n",
        "else:\n",
        "  print(\"Loai kem\")\n"
      ],
      "metadata": {
        "colab": {
          "base_uri": "https://localhost:8080/"
        },
        "id": "CBrd9rx_R92z",
        "outputId": "a31dca76-7d3c-4bc4-b75b-0326bbd83dad"
      },
      "execution_count": 4,
      "outputs": [
        {
          "output_type": "stream",
          "name": "stdout",
          "text": [
            "nhap vao diem toan: 3\n",
            "nhap vao diem ly: 4\n",
            "nhap vao diem hoa: 5\n",
            "Loai kem\n"
          ]
        }
      ]
    },
    {
      "cell_type": "code",
      "source": [
        "#cau1-Ex2\n",
        "m1 = int(input(\"nhap vao so tu nhien: \"))\n",
        "m2 = str(m1)\n",
        "m3 = 0\n",
        "for x in m2:\n",
        "  m3 += int(x)\n",
        "print(m3)"
      ],
      "metadata": {
        "colab": {
          "base_uri": "https://localhost:8080/"
        },
        "id": "_8Cv8lY8TQ1K",
        "outputId": "360ca900-6b5c-4c92-e498-1f8bdd9fd73c"
      },
      "execution_count": 7,
      "outputs": [
        {
          "output_type": "stream",
          "name": "stdout",
          "text": [
            "nhap vao so tu nhien: 123\n",
            "6\n"
          ]
        }
      ]
    },
    {
      "cell_type": "code",
      "source": [
        "#cau2-Ex2\n",
        "m4 = int(input(\"nhap vao so tu nhien: \"))\n",
        "def ptich(m,i=2):\n",
        "  if m == 1:\n",
        "    return\n",
        "  while m % i == 0:\n",
        "    print(i)\n",
        "    m = m // i\n",
        "  return ptich(m,i+1)\n",
        "\n",
        "ptich(m4)\n"
      ],
      "metadata": {
        "colab": {
          "base_uri": "https://localhost:8080/"
        },
        "id": "2hG3uDbNVGOJ",
        "outputId": "d5187e31-6a8d-4e40-9e01-68eb002bb360"
      },
      "execution_count": 20,
      "outputs": [
        {
          "output_type": "stream",
          "name": "stdout",
          "text": [
            "nhap vao so tu nhien: 28\n",
            "2\n",
            "2\n",
            "7\n"
          ]
        }
      ]
    },
    {
      "cell_type": "code",
      "source": [
        "#cau3-Ex2]\n",
        "def checksnt(x):\n",
        "  if x < 2:\n",
        "    return False\n",
        "  for i in range(2,x):\n",
        "    if x % i==0:\n",
        "      return False\n",
        "    return True\n",
        "\n",
        "m5 = int(input(\"nhap vao so tu nhien: \"))\n",
        "for i in range(m5):\n",
        "  if checksnt(i) == True:\n",
        "    print(i)"
      ],
      "metadata": {
        "colab": {
          "base_uri": "https://localhost:8080/"
        },
        "id": "vXdLGQpZXpu7",
        "outputId": "2e805194-2775-48f5-dd87-d1c28f7cad52"
      },
      "execution_count": 25,
      "outputs": [
        {
          "output_type": "stream",
          "name": "stdout",
          "text": [
            "nhap vao so tu nhien: 7\n",
            "3\n",
            "5\n"
          ]
        }
      ]
    },
    {
      "cell_type": "code",
      "source": [
        "#cau4-EX2\n",
        "def checksnt(x):\n",
        "  if x < 2:\n",
        "    return False\n",
        "  for i in range(2,x):\n",
        "    if x % i==0:\n",
        "      return False\n",
        "    return True\n",
        "m5 = int(input(\"Nhập vào số số nguyên tố cần tìm: \"))\n",
        "x = 2\n",
        "count = 0\n",
        "while count < m5:\n",
        "    if checksnt(x):\n",
        "        print(x)\n",
        "        count += 1\n",
        "    x += 1\n"
      ],
      "metadata": {
        "colab": {
          "base_uri": "https://localhost:8080/"
        },
        "id": "YFefRF9vaCsh",
        "outputId": "0d401a52-6e22-4304-af82-7ce83285082d"
      },
      "execution_count": 27,
      "outputs": [
        {
          "output_type": "stream",
          "name": "stdout",
          "text": [
            "Nhập vào số số nguyên tố cần tìm: 7\n",
            "3\n",
            "5\n",
            "7\n",
            "9\n",
            "11\n",
            "13\n",
            "15\n"
          ]
        }
      ]
    },
    {
      "cell_type": "code",
      "source": [
        "def fibonacci(n):\n",
        "    if n <= 0:\n",
        "        return \"Không có số Fibonacci nào cho n không dương.\"\n",
        "    elif n == 1:\n",
        "        return 1\n",
        "    elif n == 2:\n",
        "        return 1\n",
        "    else:\n",
        "        fib1 = 1\n",
        "        fib2 = 1\n",
        "        for i in range(2, n):\n",
        "            fib = fib1 + fib2\n",
        "            fib1 = fib2\n",
        "            fib2 = fib\n",
        "        return fib\n",
        "n = int(input(\"Nhập số Fibonacci thứ n cần tìm: \"))\n",
        "ket_qua = fibonacci(n)\n",
        "print(\"Số Fibonacci thứ\", n, \"là:\", ket_qua)\n"
      ],
      "metadata": {
        "colab": {
          "base_uri": "https://localhost:8080/"
        },
        "id": "xlGPBriFbfwg",
        "outputId": "8e9d3a26-96c3-41fa-b11b-9bf8e2431a1d"
      },
      "execution_count": 28,
      "outputs": [
        {
          "output_type": "stream",
          "name": "stdout",
          "text": [
            "Nhập số Fibonacci thứ n cần tìm: 3\n",
            "Số Fibonacci thứ 3 là: 2\n"
          ]
        }
      ]
    },
    {
      "cell_type": "code",
      "source": [
        "def checksnt(x):\n",
        "  if x < 2:\n",
        "    return False\n",
        "  for i in range(2,x):\n",
        "    if x % i==0:\n",
        "      return False\n",
        "    return True\n",
        "def fibonacci_numbers_less_than_n(n):\n",
        "    fib1, fib2 = 1, 1\n",
        "    fibonacci_numbers = []\n",
        "    while fib1 < n:\n",
        "        if checksnt(fib1):\n",
        "            fibonacci_numbers.append(fib1)\n",
        "        fib1, fib2 = fib2, fib1 + fib2\n",
        "    return fibonacci_numbers\n",
        "\n",
        "n = int(input(\"Nhập số tự nhiên n: \"))\n",
        "ket_qua = fibonacci_numbers_less_than_n(n)\n",
        "print(\"Các số Fibonacci nhỏ hơn\", n, \"và là số nguyên tố là:\")\n",
        "print(ket_qua)"
      ],
      "metadata": {
        "colab": {
          "base_uri": "https://localhost:8080/"
        },
        "id": "V3hqLSUib6iC",
        "outputId": "230b4c00-2bb4-4c46-c8c6-ff376f8b0952"
      },
      "execution_count": 32,
      "outputs": [
        {
          "output_type": "stream",
          "name": "stdout",
          "text": [
            "Nhập số tự nhiên n: 4\n",
            "Các số Fibonacci nhỏ hơn 4 và là số nguyên tố là:\n",
            "[3]\n"
          ]
        }
      ]
    },
    {
      "cell_type": "code",
      "source": [
        "def tinh_tong_chu_so(n):\n",
        "    tong = 0\n",
        "    while n > 0:\n",
        "        tong += n % 10\n",
        "        n //= 10\n",
        "    return tong\n",
        "\n",
        "def phan_tich_thua_so_nguyen_to(n):\n",
        "    thua_so = []\n",
        "    i = 2\n",
        "    while n > 1:\n",
        "        while n % i == 0:\n",
        "            thua_so.append(i)\n",
        "            n //= i\n",
        "        i += 1\n",
        "    return thua_so\n",
        "\n",
        "\n",
        "n = int(input(\"Nhập một số nguyên dương n: \"))\n",
        "tong_chu_so = tinh_tong_chu_so(n)\n",
        "print(\"Tổng các chữ số của\", n, \"là:\", tong_chu_so)\n",
        "thua_so_nguyen_to = phan_tich_thua_so_nguyen_to(n)\n",
        "print(\"Phân tích thừa số nguyên tố của\", n, \"là:\", thua_so_nguyen_to)"
      ],
      "metadata": {
        "colab": {
          "base_uri": "https://localhost:8080/"
        },
        "id": "O6h_2-iZccYF",
        "outputId": "f9704eb6-a366-47d8-bbcd-82104e00284e"
      },
      "execution_count": 33,
      "outputs": [
        {
          "output_type": "stream",
          "name": "stdout",
          "text": [
            "Nhập một số nguyên dương n: 18\n",
            "Tổng các chữ số của 18 là: 9\n",
            "Phân tích thừa số nguyên tố của 18 là: [2, 3, 3]\n"
          ]
        }
      ]
    },
    {
      "cell_type": "code",
      "source": [
        "def liet_ke_uoc_so(n):\n",
        "    uoc_so = []\n",
        "    for i in range(1, n + 1):\n",
        "        if n % i == 0:\n",
        "            uoc_so.append(i)\n",
        "    return uoc_so\n",
        "\n",
        "def kiem_tra_nguyen_to(x):\n",
        "    if x <= 1:\n",
        "        return False\n",
        "    for i in range(2, int(x ** 0.5) + 1):\n",
        "        if x % i == 0:\n",
        "            return False\n",
        "    return True\n",
        "\n",
        "def uoc_so_nguyen_to(n):\n",
        "    uoc_so_nguyen_to = []\n",
        "    for i in range(1, n + 1):\n",
        "        if n % i == 0 and kiem_tra_nguyen_to(i):\n",
        "            uoc_so_nguyen_to.append(i)\n",
        "    return uoc_so_nguyen_to\n",
        "\n",
        "n = int(input(\"Nhập một số nguyên dương n: \"))\n",
        "uoc_so = liet_ke_uoc_so(n)\n",
        "print(\"Các ước số của\", n, \"là:\", uoc_so)\n",
        "print(\"Số lượng ước số của\", n, \"là:\", len(uoc_so))\n",
        "uoc_so_nguyen_to = uoc_so_nguyen_to(n)\n",
        "print(\"Các ước số là số nguyên tố của\", n, \"là:\", uoc_so_nguyen_to)\n"
      ],
      "metadata": {
        "colab": {
          "base_uri": "https://localhost:8080/"
        },
        "id": "1FzBu5SpdXDC",
        "outputId": "9f5c110e-bf78-4bf5-da53-258ad3128190"
      },
      "execution_count": 34,
      "outputs": [
        {
          "output_type": "stream",
          "name": "stdout",
          "text": [
            "Nhập một số nguyên dương n: 123\n",
            "Các ước số của 123 là: [1, 3, 41, 123]\n",
            "Số lượng ước số của 123 là: 4\n",
            "Các ước số là số nguyên tố của 123 là: [3, 41]\n"
          ]
        }
      ]
    },
    {
      "cell_type": "code",
      "source": [
        "def chuan_hoa_xau(xau):\n",
        "    xau_chuan_hoa = ' '.join(xau.split()).lower()\n",
        "    xau_chuan_hoa = xau_chuan_hoa.title()\n",
        "    return xau_chuan_hoa\n",
        "\n",
        "xau = input(\"Nhập xâu ký tự cần chuẩn hoá: \")\n",
        "xau_chuan_hoa = chuan_hoa_xau(xau)\n",
        "print(\"Xâu ký tự sau khi được chuẩn hoá là:\", xau_chuan_hoa)\n"
      ],
      "metadata": {
        "colab": {
          "base_uri": "https://localhost:8080/"
        },
        "id": "x3NEPxIUdg54",
        "outputId": "fef0d0a9-fed3-4091-85a3-89bb1e248a5c"
      },
      "execution_count": 35,
      "outputs": [
        {
          "output_type": "stream",
          "name": "stdout",
          "text": [
            "Nhập xâu ký tự cần chuẩn hoá: asd\n",
            "Xâu ký tự sau khi được chuẩn hoá là: Asd\n"
          ]
        }
      ]
    },
    {
      "cell_type": "code",
      "source": [
        "def tim_tu_dai_nhat(xau):\n",
        "    cac_tu = xau.split()\n",
        "    tu_dai_nhat = max(cac_tu, key=len)\n",
        "    return tu_dai_nhat\n",
        "\n",
        "def vi_tri_tu(xau, tu):\n",
        "    vi_tri = xau.find(tu)\n",
        "    return vi_tri\n",
        "\n",
        "xau = input(\"Nhập xâu ký tự: \")\n",
        "tu_dai_nhat = tim_tu_dai_nhat(xau)\n",
        "print(\"Từ dài nhất trong xâu là:\", tu_dai_nhat)\n",
        "vi_tri = vi_tri_tu(xau, tu_dai_nhat)\n",
        "print(\"Từ\", tu_dai_nhat, \"xuất hiện ở vị trí:\", vi_tri)\n"
      ],
      "metadata": {
        "id": "zl4Gu3uZdsC-"
      },
      "execution_count": null,
      "outputs": []
    },
    {
      "cell_type": "code",
      "source": [
        "# Mẫu (a)\n",
        "for i in range(8, 0, -1):\n",
        "    print('+' * i)\n",
        "\n",
        "# Mẫu (b)\n",
        "for i in range(1, 9):\n",
        "    print('+' * i)\n",
        "\n",
        "# Mẫu (c)\n",
        "for i in range(8):\n",
        "    print(' ' * (8 - i - 1) + '+' * (2 * i + 1))\n",
        "\n",
        "# Mẫu (d)\n",
        "for i in range(7, -1, -1):\n",
        "    print(' ' * (8 - i - 1) + '+' * (2 * i + 1))\n",
        "\n"
      ],
      "metadata": {
        "colab": {
          "base_uri": "https://localhost:8080/"
        },
        "id": "IWD6DKbCeTw4",
        "outputId": "0e53c34a-1810-4678-ac2a-8de4ce8d044f"
      },
      "execution_count": 39,
      "outputs": [
        {
          "output_type": "stream",
          "name": "stdout",
          "text": [
            "++++++++\n",
            "+++++++\n",
            "++++++\n",
            "+++++\n",
            "++++\n",
            "+++\n",
            "++\n",
            "+\n",
            "+\n",
            "++\n",
            "+++\n",
            "++++\n",
            "+++++\n",
            "++++++\n",
            "+++++++\n",
            "++++++++\n",
            "       +\n",
            "      +++\n",
            "     +++++\n",
            "    +++++++\n",
            "   +++++++++\n",
            "  +++++++++++\n",
            " +++++++++++++\n",
            "+++++++++++++++\n",
            "+++++++++++++++\n",
            " +++++++++++++\n",
            "  +++++++++++\n",
            "   +++++++++\n",
            "    +++++++\n",
            "     +++++\n",
            "      +++\n",
            "       +\n"
          ]
        }
      ]
    },
    {
      "cell_type": "code",
      "source": [
        "def tinh_giai_thua(n):\n",
        "    if n == 0:\n",
        "        return 1\n",
        "    giai_thua = 1\n",
        "    for i in range(1, n + 1):\n",
        "        giai_thua *= i\n",
        "    return giai_thua\n",
        "\n",
        "n = int(input(\"Nhập số tự nhiên không âm n: \"))\n",
        "ket_qua = tinh_giai_thua(n)\n",
        "print(n, \"! =\", ket_qua)\n"
      ],
      "metadata": {
        "colab": {
          "base_uri": "https://localhost:8080/"
        },
        "id": "prWG58yqe2hO",
        "outputId": "93d6ef19-b564-4e17-c935-7cfa3174bbb3"
      },
      "execution_count": 40,
      "outputs": [
        {
          "output_type": "stream",
          "name": "stdout",
          "text": [
            "Nhập số tự nhiên không âm n: 5\n",
            "5 ! = 120\n"
          ]
        }
      ]
    }
  ]
}