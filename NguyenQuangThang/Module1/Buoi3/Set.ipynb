{
  "nbformat": 4,
  "nbformat_minor": 0,
  "metadata": {
    "colab": {
      "provenance": [],
      "collapsed_sections": [
        "uq5aUpLjYP1l"
      ],
      "toc_visible": true
    },
    "kernelspec": {
      "name": "python3",
      "display_name": "Python 3"
    },
    "language_info": {
      "name": "python"
    }
  },
  "cells": [
    {
      "cell_type": "markdown",
      "source": [
        "# **Set trong Python**"
      ],
      "metadata": {
        "id": "mXf7eI-4YKYZ"
      }
    },
    {
      "cell_type": "markdown",
      "source": [
        "#Cách mở Mục Lục"
      ],
      "metadata": {
        "id": "uq5aUpLjYP1l"
      }
    },
    {
      "cell_type": "markdown",
      "source": [
        "![image.png](data:image/png;base64,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)\n"
      ],
      "metadata": {
        "id": "Vj3YB2t0YQnY"
      }
    },
    {
      "cell_type": "markdown",
      "source": [
        "# I. Giới thiệu về Set"
      ],
      "metadata": {
        "id": "02tUq-sJ9PD6"
      }
    },
    {
      "cell_type": "markdown",
      "source": [
        "***Kiểu dữ liệu Set*** Set (tập hợp) là một cấu trúc dữ liệu **không thể thao tác sắp xếp**, **lưu theo thứ tự**, **không thể lập chỉ mục** và **không chứa các phần tử trùng lặp**.\n",
        "\n",
        "***Khởi tạo Set*** bằng cặp dấu ngoặc nhọn ***( {} )*** và các phần tử của Set được liệt kê bên trong.\n",
        "\n",
        "***Mỗi phần tử*** trong Set là ***duy nhất*** và ***không thể có các phần tử trùng lặp***, các phần tử cách nhau bởi ***dấu phẩy ( , )***."
      ],
      "metadata": {
        "id": "Vt5Jhknt9QlR"
      }
    },
    {
      "cell_type": "code",
      "source": [
        "setFruits = {\"apple\", \"cherry\", \"banana\"}\n",
        "print(setFruits)"
      ],
      "metadata": {
        "colab": {
          "base_uri": "https://localhost:8080/"
        },
        "id": "DXd1LMPL9sEN",
        "outputId": "f09ec3cf-76c8-41a7-e4f0-d84bcdaa5c8b"
      },
      "execution_count": 12,
      "outputs": [
        {
          "output_type": "stream",
          "name": "stdout",
          "text": [
            "{'cherry', 'banana', 'apple'}\n"
          ]
        }
      ]
    },
    {
      "cell_type": "code",
      "source": [
        "# Lưu ý khi khởi tạo set:\n",
        "\n",
        "print(type({})) # {} rỗng = dictionary rỗng\n",
        "\n",
        "print(type({'a'})) # {} chứa các phần tử không phải dạng key-value thì sẽ là kiểu dữ liệu set\n",
        "print(type({'a':'b'}))"
      ],
      "metadata": {
        "colab": {
          "base_uri": "https://localhost:8080/"
        },
        "id": "n_1tu8VzYtDv",
        "outputId": "fe718e2c-8261-49b0-827d-1d8a104eaf7e"
      },
      "execution_count": 13,
      "outputs": [
        {
          "output_type": "stream",
          "name": "stdout",
          "text": [
            "<class 'dict'>\n",
            "<class 'set'>\n",
            "<class 'dict'>\n"
          ]
        }
      ]
    },
    {
      "cell_type": "code",
      "source": [
        "temp = {'c', 'b', 'e', 'a', 5, 1, 4, 2, 3}\n",
        "print(temp)"
      ],
      "metadata": {
        "colab": {
          "base_uri": "https://localhost:8080/"
        },
        "id": "m45NYuaePzo9",
        "outputId": "ee89dd66-b473-425a-ca93-87b5c82ca210"
      },
      "execution_count": 14,
      "outputs": [
        {
          "output_type": "stream",
          "name": "stdout",
          "text": [
            "{1, 2, 'b', 4, 5, 3, 'c', 'e', 'a'}\n"
          ]
        }
      ]
    },
    {
      "cell_type": "markdown",
      "source": [
        "# II.Thao tác với Set"
      ],
      "metadata": {
        "id": "EYlE3-JUkyVG"
      }
    },
    {
      "cell_type": "markdown",
      "source": [
        "## 1.Truy cập các phần tử của Set trong Python\n",
        "***Không thể truy cập các phần tử trong một Set bằng cách sử dụng chỉ mục***\n",
        "\n",
        "Vì Set không lưu trữ các phần tử theo thứ tự nhập ban đầu.\n",
        "\n",
        "Tuy nhiên, có thể sử dụng vòng lặp for để truy cập các phần tử của một Set, ví dụ:"
      ],
      "metadata": {
        "id": "4EABpyYx9x8J"
      }
    },
    {
      "cell_type": "code",
      "source": [
        "# Duyệt các phần tử của một Set và in các giá trị ra màn hình:\n",
        "\n",
        "setFruits = {\"apple\", \"cherry\", \"banana\"}\n",
        "\n",
        "for x in setFruits:\n",
        "    print(x)"
      ],
      "metadata": {
        "colab": {
          "base_uri": "https://localhost:8080/"
        },
        "id": "Vjaa8Ix991A9",
        "outputId": "168c59a9-9e89-4522-8224-baf2f4147619"
      },
      "execution_count": 15,
      "outputs": [
        {
          "output_type": "stream",
          "name": "stdout",
          "text": [
            "cherry\n",
            "banana\n",
            "apple\n"
          ]
        }
      ]
    },
    {
      "cell_type": "markdown",
      "source": [
        "Hoặc sử dụng từ khóa ***in*** để kiểm tra xem phần tử có tồn tại trong Set hay không."
      ],
      "metadata": {
        "id": "z73admd4938p"
      }
    },
    {
      "cell_type": "code",
      "source": [
        "setFruits = {\"apple\", \"cherry\", \"banana\"}\n",
        "\n",
        "x = \"apple\" in setFruits\n",
        "print(x)"
      ],
      "metadata": {
        "colab": {
          "base_uri": "https://localhost:8080/"
        },
        "id": "AI2dyx9993NR",
        "outputId": "49efa8d5-977c-452e-85fc-8fbb649a1e97"
      },
      "execution_count": 16,
      "outputs": [
        {
          "output_type": "stream",
          "name": "stdout",
          "text": [
            "True\n"
          ]
        }
      ]
    },
    {
      "cell_type": "markdown",
      "source": [
        "## 2.Thay đổi các giá trị của một item trong Set"
      ],
      "metadata": {
        "id": "MueDjzMl98P_"
      }
    },
    {
      "cell_type": "markdown",
      "source": [
        "***Không thể thay đổi các item*** của Set."
      ],
      "metadata": {
        "id": "rHiFE2xn99Te"
      }
    },
    {
      "cell_type": "markdown",
      "source": [
        "## 3.Thêm các item vào một Set"
      ],
      "metadata": {
        "id": "OsSvBP8s-DoR"
      }
    },
    {
      "cell_type": "markdown",
      "source": [
        "Để thêm một item vào một set, sử dụng hàm ***add()***\n",
        "\n",
        "Để thêm nhiều item vào một set, sử dụng hàm ***update()***\n",
        "\n",
        "Ví dụ:"
      ],
      "metadata": {
        "id": "PcFAmrcx-FCK"
      }
    },
    {
      "cell_type": "code",
      "source": [
        "# Thêm 1 item bằng hàm add()\n",
        "\n",
        "setFruits = {\"apple\", \"cherry\", \"banana\"}\n",
        "setFruits.add(\"kiwi\")\n",
        "\n",
        "print(setFruits)"
      ],
      "metadata": {
        "colab": {
          "base_uri": "https://localhost:8080/"
        },
        "id": "fjrLnmAm-GZq",
        "outputId": "2619bec7-785e-439c-d2c0-2fceaa3ef7bb"
      },
      "execution_count": 17,
      "outputs": [
        {
          "output_type": "stream",
          "name": "stdout",
          "text": [
            "{'cherry', 'banana', 'kiwi', 'apple'}\n"
          ]
        }
      ]
    },
    {
      "cell_type": "code",
      "source": [
        "# Thêm nhiều item bằng hàm update()\n",
        "\n",
        "setFruits = {\"apple\", \"cherry\", \"banana\"}\n",
        "setFruits.update([\"orange\", \"mango\", \"grapes\"])\n",
        "\n",
        "print(setFruits)"
      ],
      "metadata": {
        "colab": {
          "base_uri": "https://localhost:8080/"
        },
        "id": "KnmmOTLy-LWd",
        "outputId": "ce71a791-e320-431a-b92a-6f13af07a400"
      },
      "execution_count": 18,
      "outputs": [
        {
          "output_type": "stream",
          "name": "stdout",
          "text": [
            "{'grapes', 'apple', 'banana', 'orange', 'cherry', 'mango'}\n"
          ]
        }
      ]
    },
    {
      "cell_type": "markdown",
      "source": [
        "## 4.Độ dài của một Set"
      ],
      "metadata": {
        "id": "EQfGXPJf-UiB"
      }
    },
    {
      "cell_type": "markdown",
      "source": [
        "Hàm len() được sử dụng để xem có bao nhiêu item trong một set:"
      ],
      "metadata": {
        "id": "oJfllTI6-WgF"
      }
    },
    {
      "cell_type": "code",
      "source": [
        "setFruits = {\"apple\", \"cherry\", \"banana\"}\n",
        "print(len(setFruits))"
      ],
      "metadata": {
        "colab": {
          "base_uri": "https://localhost:8080/"
        },
        "id": "S6bqdvOc-X7l",
        "outputId": "17742bda-2b5b-4a78-826d-9c3f5a7a64e4"
      },
      "execution_count": 19,
      "outputs": [
        {
          "output_type": "stream",
          "name": "stdout",
          "text": [
            "3\n"
          ]
        }
      ]
    },
    {
      "cell_type": "markdown",
      "source": [
        "## 5.Xóa một phần tử từ Set"
      ],
      "metadata": {
        "id": "HWIEdsCq-bL1"
      }
    },
    {
      "cell_type": "markdown",
      "source": [
        "Để ***xóa*** một phần tử ***cụ thể*** trong một set, sử dụng hàm ***remove()*** hoặc ***discard()***"
      ],
      "metadata": {
        "id": "NvChFo6k-cW2"
      }
    },
    {
      "cell_type": "markdown",
      "source": [
        "### Sử dụng hàm remove()"
      ],
      "metadata": {
        "id": "GtbbEMVq-dhu"
      }
    },
    {
      "cell_type": "code",
      "source": [
        "setFruits = {\"apple\", \"cherry\", \"banana\"}\n",
        "setFruits.remove(\"banana\")\n",
        "\n",
        "print(setFruits)"
      ],
      "metadata": {
        "colab": {
          "base_uri": "https://localhost:8080/"
        },
        "id": "y_lvVkvf-iMK",
        "outputId": "c692951e-3f06-4e9b-84da-d910006e1947"
      },
      "execution_count": 20,
      "outputs": [
        {
          "output_type": "stream",
          "name": "stdout",
          "text": [
            "{'cherry', 'apple'}\n"
          ]
        }
      ]
    },
    {
      "cell_type": "markdown",
      "source": [
        "*Nếu phần tử không tồn tại trong Set, nó sẽ sinh ra một ngoại lệ (exception) có tên là KeyError - không thể tìm thấy khóa mà bạn đã nhập.*"
      ],
      "metadata": {
        "id": "vlKqXA4_-h2l"
      }
    },
    {
      "cell_type": "code",
      "source": [
        "setFruits = {\"apple\", \"cherry\", \"banana\"}\n",
        "#setFruits.remove(\"orange\")\n",
        "\n",
        "print(setFruits)"
      ],
      "metadata": {
        "colab": {
          "base_uri": "https://localhost:8080/"
        },
        "id": "ayzOhunqdEKp",
        "outputId": "038bf556-49b8-4419-ce60-a92974bfa7cb"
      },
      "execution_count": 21,
      "outputs": [
        {
          "output_type": "stream",
          "name": "stdout",
          "text": [
            "{'cherry', 'banana', 'apple'}\n"
          ]
        }
      ]
    },
    {
      "cell_type": "markdown",
      "source": [
        "### Sử dụng hàm discard()"
      ],
      "metadata": {
        "id": "Lyg-O6r_ctwn"
      }
    },
    {
      "cell_type": "code",
      "source": [
        "setFruits = {\"apple\", \"cherry\", \"banana\"}\n",
        "setFruits.discard(\"banana\")\n",
        "\n",
        "print(setFruits)"
      ],
      "metadata": {
        "colab": {
          "base_uri": "https://localhost:8080/"
        },
        "id": "Bhm8TbuO986g",
        "outputId": "03f0b7cd-5855-4593-e78f-5007c45d44c1"
      },
      "execution_count": 22,
      "outputs": [
        {
          "output_type": "stream",
          "name": "stdout",
          "text": [
            "{'cherry', 'apple'}\n"
          ]
        }
      ]
    },
    {
      "cell_type": "markdown",
      "source": [
        "*Nếu phần tử không tồn tại trong Set, discard() sẽ không sinh ra bất kỳ ngoại lệ nào, mà chỉ đơn giản là không làm gì cả.*"
      ],
      "metadata": {
        "id": "-57R2erHc1cZ"
      }
    },
    {
      "cell_type": "code",
      "source": [
        "setFruits = {\"apple\", \"cherry\", \"banana\"}\n",
        "setFruits.discard(\"orange\")\n",
        "print(setFruits)"
      ],
      "metadata": {
        "colab": {
          "base_uri": "https://localhost:8080/"
        },
        "id": "U69UeCJ3dAAa",
        "outputId": "63ee4770-7f3f-4eb6-b714-925299966ed9"
      },
      "execution_count": 23,
      "outputs": [
        {
          "output_type": "stream",
          "name": "stdout",
          "text": [
            "{'cherry', 'banana', 'apple'}\n"
          ]
        }
      ]
    },
    {
      "cell_type": "markdown",
      "source": [
        "### Sử dụng hàm pop()"
      ],
      "metadata": {
        "id": "eju-5dXc-uNN"
      }
    },
    {
      "cell_type": "markdown",
      "source": [
        "Hàm ***pop()***, để xóa một phần tử, nhưng phương thức này sẽ xóa phần tử cuối cùng. Nhưng set không có thứ tự, vì vậy bạn sẽ không biết mục nào bị xóa, có thể nói là ***xoá một cách ngẫu nhiên.***\n",
        "\n",
        "Giá trị trả về của hàm pop() là phần tử bị xóa."
      ],
      "metadata": {
        "id": "ckj1A_4q-wU-"
      }
    },
    {
      "cell_type": "code",
      "source": [
        "setFruits = {\"apple\", \"banana\", \"cherry\"}\n",
        "x = setFruits.pop()\n",
        "\n",
        "print(\"Phần tử bị xoá: \", x)\n",
        "print(\"Phần tử còn lại: \", setFruits)"
      ],
      "metadata": {
        "colab": {
          "base_uri": "https://localhost:8080/"
        },
        "id": "2xCf5qvF-yMl",
        "outputId": "17806bb4-b0ca-46c6-a4db-c18fdd4d084d"
      },
      "execution_count": 24,
      "outputs": [
        {
          "output_type": "stream",
          "name": "stdout",
          "text": [
            "Phần tử bị xoá:  cherry\n",
            "Phần tử còn lại:  {'banana', 'apple'}\n"
          ]
        }
      ]
    },
    {
      "cell_type": "markdown",
      "source": [
        "### Sử dụng hàm clear()"
      ],
      "metadata": {
        "id": "IATdhwgn_GfS"
      }
    },
    {
      "cell_type": "markdown",
      "source": [
        "Hàm ***clear()*** được sử dụng để loại bỏ tất cả các phần tử khỏi Set, làm cho Set trở thành rỗng"
      ],
      "metadata": {
        "id": "RYGyMXABeTou"
      }
    },
    {
      "cell_type": "code",
      "source": [
        "setFruits = {\"apple\", \"cherry\", \"banana\"}\n",
        "setFruits.clear()\n",
        "\n",
        "print(setFruits)\n",
        "print(\"Số lượng phần tử:\", len(setFruits))"
      ],
      "metadata": {
        "colab": {
          "base_uri": "https://localhost:8080/"
        },
        "id": "PKY5p-Bx_IAN",
        "outputId": "fa113579-e710-4292-80b4-511677847195"
      },
      "execution_count": 25,
      "outputs": [
        {
          "output_type": "stream",
          "name": "stdout",
          "text": [
            "set()\n",
            "Số lượng phần tử: 0\n"
          ]
        }
      ]
    },
    {
      "cell_type": "markdown",
      "source": [
        "### Sử dụng từ khóa del"
      ],
      "metadata": {
        "id": "WRvVOR9T_J0F"
      }
    },
    {
      "cell_type": "markdown",
      "source": [
        "Từ khoá ***del*** được sử dụng để xóa một biến, biến có thể là bất kỳ kiểu dữ liệu nào có thể thay đổi (Mutable)\n",
        "\n",
        "***Mutable***: các đối tượng ***có thể thay đổi*** được các phần tử bên trong như thêm, xoá, sửa như list, dictionary và set.\n",
        "\n",
        "***Immutable***: các đối tượng ***không thể thay đổi*** sau khi chúng được tạo ra như integer, float, string, typle, ..."
      ],
      "metadata": {
        "id": "Nn1J9eLlfAfv"
      }
    },
    {
      "cell_type": "code",
      "source": [
        "setFruits = {\"apple\", \"cherry\", \"banana\"}\n",
        "del setFruits # Xoá biến setFruits\n",
        "\n",
        "# Do đã bị xóa nên biến setFruits sẽ không tồn tại,\n",
        "# nên sẽ xuất hiện lỗi \"NameError: name 'setFruits' is not defined\",\n",
        "# nghĩa là biến chưa được định nghĩa.\n",
        "#print(setFruits)"
      ],
      "metadata": {
        "id": "ZewSe3SZ_KbN"
      },
      "execution_count": 28,
      "outputs": []
    },
    {
      "cell_type": "markdown",
      "source": [
        "## 6.Nối 2 set trong Python"
      ],
      "metadata": {
        "id": "ydRBIEnb_Ru9"
      }
    },
    {
      "cell_type": "markdown",
      "source": [
        "Hàm ***union()*** trả về một ***set mới chứa tất cả các phần tử từ cả hai Set***."
      ],
      "metadata": {
        "id": "engPHfcu_THu"
      }
    },
    {
      "cell_type": "code",
      "source": [
        "set1 = {\"M\", \"e\", \"t\", \"a\"}\n",
        "set2 = {'M', \"i\", \"n\", \"d\"}\n",
        "\n",
        "set3 = set1.union(set2)\n",
        "print(set3) # \"M\" chỉ được xuất hiện 1 lần nếu bị trùng khi gộp\n",
        "set3 = set1 | set2\n",
        "print(set3)\n",
        "\n",
        "# Hợp |\n",
        "# Giao &\n",
        "# Hiệu -"
      ],
      "metadata": {
        "colab": {
          "base_uri": "https://localhost:8080/"
        },
        "id": "velNqEwx_Tid",
        "outputId": "f8e5b5a6-3b62-47d0-fd77-955585856852"
      },
      "execution_count": 29,
      "outputs": [
        {
          "output_type": "stream",
          "name": "stdout",
          "text": [
            "{'d', 'M', 't', 'n', 'e', 'a', 'i'}\n",
            "{'d', 'M', 't', 'n', 'e', 'a', 'i'}\n"
          ]
        }
      ]
    },
    {
      "cell_type": "markdown",
      "source": [
        "Hàm ***update()*** sẽ ***chèn tất cả các mục từ set này sang set khác***."
      ],
      "metadata": {
        "id": "P8URVilKh8JY"
      }
    },
    {
      "cell_type": "code",
      "source": [
        "set1 = {\"M\", \"e\", \"t\", \"a\"}\n",
        "set2 = {'M', \"i\", \"n\", \"d\"}\n",
        "\n",
        "set1.update(set2)\n",
        "print(set1)"
      ],
      "metadata": {
        "colab": {
          "base_uri": "https://localhost:8080/"
        },
        "id": "NuC9JDu0haS_",
        "outputId": "3f836289-87ef-4a75-c014-545846486fc7"
      },
      "execution_count": 30,
      "outputs": [
        {
          "output_type": "stream",
          "name": "stdout",
          "text": [
            "{'d', 'M', 't', 'n', 'e', 'a', 'i'}\n"
          ]
        }
      ]
    },
    {
      "cell_type": "markdown",
      "source": [
        "## 7.Constructor set()"
      ],
      "metadata": {
        "id": "yygQAyPF_hX1"
      }
    },
    {
      "cell_type": "markdown",
      "source": [
        "Hàm khởi tạo ***set()*** để tạo một set dựa vào các kiểu dữ liệu khác."
      ],
      "metadata": {
        "id": "n9Igl_d2_jC0"
      }
    },
    {
      "cell_type": "code",
      "source": [
        "tupleFruits = (\"apple\", \"banana\", \"cherry\") # Kiểu Tuple\n",
        "listFruits = [\"apple\", \"banana\", \"cherry\"] # Kiểu List\n",
        "dictFruits = {\"apple\":\"\", \"banana\":\"\", \"cherry\":\"\"} # Kiểu Dictionary\n",
        "setFruits = {\"apple\", \"banana\", \"cherry\"} # Kiểu Set\n",
        "\n",
        "# Chuyển sang Set\n",
        "setFruits1 = set(tupleFruits)\n",
        "setFruits2 = set(listFruits)\n",
        "setFruits3 = set(dictFruits)\n",
        "setFruits4 = set(setFruits)\n",
        "\n",
        "print(setFruits1)\n",
        "print(setFruits2)\n",
        "print(setFruits3)\n",
        "print(setFruits4)"
      ],
      "metadata": {
        "colab": {
          "base_uri": "https://localhost:8080/"
        },
        "id": "JgOz9rbv_QO1",
        "outputId": "b42fb2fe-01b4-4fa6-8d6a-60f85f38f326"
      },
      "execution_count": 31,
      "outputs": [
        {
          "output_type": "stream",
          "name": "stdout",
          "text": [
            "{'cherry', 'banana', 'apple'}\n",
            "{'cherry', 'banana', 'apple'}\n",
            "{'cherry', 'banana', 'apple'}\n",
            "{'cherry', 'banana', 'apple'}\n"
          ]
        }
      ]
    },
    {
      "cell_type": "markdown",
      "source": [
        "## 8.Tổng hợp các phương thức Set trong Python"
      ],
      "metadata": {
        "id": "o_2StViR_5EZ"
      }
    },
    {
      "cell_type": "markdown",
      "source": [
        "<table class=\"alt\">\n",
        "<tbody>\n",
        "<tr>\n",
        "<th>Hàm</th>\n",
        "<th>Mô tả</th>\n",
        "</tr>\n",
        "<tr><td>add()</td><td>Thêm một phần tử tới set</td></tr>\n",
        "<tr><td>clear()</td><td>Xóa tất cả các phần tử của một set</td></tr>\n",
        "<tr><td>copy()</td><td>Returns a copy of the set</td></tr>\n",
        "<tr><td>difference()</td><td>Trả về một set chứa các phần tử khác nhau của 2 hoặc nhiều set</td></tr>\n",
        "<tr><td>difference_update()</td><td>Xóa các phần tử của set này mà tồn tại trong set khác</td></tr>\n",
        "<tr><td>discard()</td><td>Xóa phần tử được chỉ định.</td></tr>\n",
        "<tr><td>intersection()</td><td>Trả về một set mà các phần tử của nó tồn tại trong cả 2 set đã cho.</td></tr>\n",
        "<tr><td>intersection_update()</td><td>Xóa các phần tử của set này mà không tồn tại trong set kia.</td></tr>\n",
        "<tr><td>isdisjoint()</td><td>Trả về true nếu không có phần tử nào trong một set trùng với phần tử nào trong set thứ 2. Trả về false nếu có bất kỳ phần tử nào trong set ban đầu giống với set thứ 2</td></tr>\n",
        "<tr><td>issubset()</td><td>Trả về true nếu tất cả các phần tử trong một set tồn tại trong set2, ngược lại trả về false.</td></tr>\n",
        "<tr><td>issuperset()</td><td> Trả về true nếu tất cả các phần tử trong set2 tồn tại trong một set, ngược lại trả về false.</td></tr>\n",
        "<tr><td>pop()</td><td>Xóa phần tử cuối cùng của một set.</td></tr>\n",
        "<tr><td>remove()</td><td>Xóa phần tử được chỉ định.</td></tr>\n",
        "<tr><td>symmetric_difference()</td><td>Trả về một set mà chứa các phần tử của cả 2 set đã cho, sao cho các phần tử này tồn tại trong set này nhưng không tồn tại trong set kia.</td></tr>\n",
        "<tr><td>symmetric_difference_update()</td><td>Cập nhật set ban đầu bằng việc loại bỏ phần tử của cả 2 set đã cho, sao cho các phần tử này tồn tại trong set này nhưng không tồn tại trong set kia.</td></tr>\n",
        "<tr><td>union()</td><td>Trả về môt set mà được nối từ 2 set với nhau.</td></tr>\n",
        "<tr><td>update()</td><td>Nối set này với set khác.</td></tr>\n",
        "</tbody></table>\n"
      ],
      "metadata": {
        "id": "M3B3PiYkAEFM"
      }
    },
    {
      "cell_type": "markdown",
      "source": [
        "# III. Bài tập về Set"
      ],
      "metadata": {
        "id": "eMmNDtuekNIW"
      }
    },
    {
      "cell_type": "markdown",
      "source": [
        "## Bài tập 1: Loại bỏ các phần tử trùng lặp từ danh sách\n",
        "\n",
        "Bạn có một danh sách chứa các phần tử, trong đó một số phần tử có thể xuất hiện nhiều lần. Hãy loại bỏ các phần tử trùng lặp và in ra danh sách mới chỉ chứa các phần tử duy nhất.\n",
        "\n",
        "Yêu cầu:\n",
        "1. Tạo một danh sách chứa các phần tử 1, 2, 3, 4, 2, 3, 5.\n",
        "2. Sử dụng set để loại bỏ các phần tử trùng lặp.\n",
        "3. In ra danh sách mới chỉ chứa các phần tử duy nhất."
      ],
      "metadata": {
        "id": "gqzBw6huzpkA"
      }
    },
    {
      "cell_type": "markdown",
      "source": [
        "###Answer"
      ],
      "metadata": {
        "id": "PK9tFKJ5zq3g"
      }
    },
    {
      "cell_type": "code",
      "source": [
        "# 1. Danh sách ban đầu có phần tử trùng lặp\n",
        "danh_sach = [1, 2, 3, 4, 2, 3, 5]\n",
        "danh_sach"
      ],
      "metadata": {
        "id": "6Q1F9qZSzten",
        "colab": {
          "base_uri": "https://localhost:8080/"
        },
        "outputId": "168933fe-f6d1-4d9f-d334-5596ff9981fd"
      },
      "execution_count": 32,
      "outputs": [
        {
          "output_type": "execute_result",
          "data": {
            "text/plain": [
              "[1, 2, 3, 4, 2, 3, 5]"
            ]
          },
          "metadata": {},
          "execution_count": 32
        }
      ]
    },
    {
      "cell_type": "code",
      "source": [
        "# 2. Tạo set từ danh sách để loại bỏ các phần tử trùng lặp\n",
        "danh_sach_unique = set(danh_sach)\n",
        "danh_sach_unique"
      ],
      "metadata": {
        "id": "AeQWZRpezxWF",
        "colab": {
          "base_uri": "https://localhost:8080/"
        },
        "outputId": "47a3055e-fa78-40dc-9268-3642d60cdc56"
      },
      "execution_count": 33,
      "outputs": [
        {
          "output_type": "execute_result",
          "data": {
            "text/plain": [
              "{1, 2, 3, 4, 5}"
            ]
          },
          "metadata": {},
          "execution_count": 33
        }
      ]
    },
    {
      "cell_type": "code",
      "source": [
        "# 3. In ra danh sách mới chỉ chứa các phần tử duy nhất\n",
        "print(\"Danh sách mới sau khi loại bỏ các phần tử trùng lặp:\")\n",
        "print(list(danh_sach_unique))"
      ],
      "metadata": {
        "id": "PL77zz-Nz11S",
        "colab": {
          "base_uri": "https://localhost:8080/"
        },
        "outputId": "2c6e4aab-3d75-485f-9c9f-a53a5dac495c"
      },
      "execution_count": 34,
      "outputs": [
        {
          "output_type": "stream",
          "name": "stdout",
          "text": [
            "Danh sách mới sau khi loại bỏ các phần tử trùng lặp:\n",
            "[1, 2, 3, 4, 5]\n"
          ]
        }
      ]
    },
    {
      "cell_type": "markdown",
      "source": [
        "## Bài tập 2: Tính hợp hai tập hợp\n",
        "\n",
        "Bạn đang có hai danh sách chứa thông tin về những người bạn có hai sở thích khác nhau. An, Bình, Châu thích uống cafe còn Bình, Dung, Giang lại thích uống trà sữa. Bạn muốn kết hợp hai danh sách này để biết được tên tất cả những người bạn của mình.\n",
        "\n",
        "\n",
        "Yêu cầu:\n",
        "1. Tạo hai tập hợp (set) chứa tên của những người bạn với sở thích khác nhau.\n",
        "2. Kết hợp hai tập hợp này để biết được tất cả những người bạn của mình.\n",
        "3. In ra danh sách tất cả những người bạn."
      ],
      "metadata": {
        "id": "jCrxi1Cs0Drf"
      }
    },
    {
      "cell_type": "markdown",
      "source": [
        "###Answer"
      ],
      "metadata": {
        "id": "LGwelLgK0OJk"
      }
    },
    {
      "cell_type": "code",
      "source": [
        "# 1. Tạo hai tập hợp chứa tên của những người bạn trong hai sở thích khác nhau\n",
        "cafe = {\"An\", \"Bình\", \"Châu\"}\n",
        "tra_sua = {\"Bình\", \"Dung\", \"Giang\"}"
      ],
      "metadata": {
        "id": "hAOVas3D0PD9"
      },
      "execution_count": 35,
      "outputs": []
    },
    {
      "cell_type": "code",
      "source": [
        "# 2. Kết hợp hai tập hợp để biết được tất cả những người bạn\n",
        "all = set(cafe).union(tra_sua)\n",
        "#all = cafe | tra_sua"
      ],
      "metadata": {
        "id": "1zMv_9uo0smO"
      },
      "execution_count": 36,
      "outputs": []
    },
    {
      "cell_type": "code",
      "source": [
        "# In ra danh sách tất cả những người bạn\n",
        "print(\"Tất cả những người bạn:\")\n",
        "print(all)"
      ],
      "metadata": {
        "id": "c_XSvlIw0y6Y",
        "colab": {
          "base_uri": "https://localhost:8080/"
        },
        "outputId": "051ddd4c-5428-4ed2-8df0-0f6718eddb6e"
      },
      "execution_count": 37,
      "outputs": [
        {
          "output_type": "stream",
          "name": "stdout",
          "text": [
            "Tất cả những người bạn:\n",
            "{'Dung', 'Bình', 'An', 'Châu', 'Giang'}\n"
          ]
        }
      ]
    },
    {
      "cell_type": "markdown",
      "source": [
        "## Bài tập 3: Kiểm tra sự giao nhau giữa hai tập hợp\n",
        "\n",
        "Bạn muốn kiểm tra xem có người bạn nào xuất hiện trong cả hai danh sách không.\n",
        "\n",
        "Yêu cầu:\n",
        "1. Dựa trên 2 set đã tạo ở bài tập 2, kiểm tra xem có bất kỳ phần tử nào xuất hiện trong cả hai tập hợp.\n",
        "2. In ra kết quả của việc kiểm tra."
      ],
      "metadata": {
        "id": "AfIWeHkM2q9w"
      }
    },
    {
      "cell_type": "markdown",
      "source": [
        "###Answer"
      ],
      "metadata": {
        "id": "HHKs2s9Qki8E"
      }
    },
    {
      "cell_type": "code",
      "source": [
        "# Kiểm tra xem có bất kỳ phần tử nào xuất hiện trong cả hai tập hợp không\n",
        "giao = set(cafe).intersection(tra_sua)\n",
        "#giao = cafe & tra_sua"
      ],
      "metadata": {
        "id": "76-gI7U_2u6D"
      },
      "execution_count": 38,
      "outputs": []
    },
    {
      "cell_type": "code",
      "source": [
        "# In ra kết quả của việc kiểm tra\n",
        "if giao:\n",
        "    print(\"Có sự giao nhau giữa hai tập hợp.\")\n",
        "    print(\"Các phần tử chung là:\", giao)\n",
        "else:\n",
        "    print(\"Không có sự giao nhau giữa hai tập hợp.\")"
      ],
      "metadata": {
        "id": "OCItRnIy31u7",
        "colab": {
          "base_uri": "https://localhost:8080/"
        },
        "outputId": "76e7bbaa-49be-4885-d724-37e5b99d8ab1"
      },
      "execution_count": 39,
      "outputs": [
        {
          "output_type": "stream",
          "name": "stdout",
          "text": [
            "Có sự giao nhau giữa hai tập hợp.\n",
            "Các phần tử chung là: {'Bình'}\n"
          ]
        }
      ]
    }
  ]
}