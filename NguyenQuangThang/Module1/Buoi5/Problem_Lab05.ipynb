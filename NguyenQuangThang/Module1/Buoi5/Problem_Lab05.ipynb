{
  "nbformat": 4,
  "nbformat_minor": 0,
  "metadata": {
    "colab": {
      "provenance": []
    },
    "kernelspec": {
      "name": "python3",
      "display_name": "Python 3"
    },
    "language_info": {
      "name": "python"
    }
  },
  "cells": [
    {
      "cell_type": "markdown",
      "source": [
        "#Bài tập 1: Thao tác với ma trận  \n",
        "**Lý thuyết**:  \n",
        "NumPy cung cấp các công cụ mạnh mẽ để thao tác ma trận, bao gồm tính toán các định thức, tìm nghịch đảo và tính toán các giá trị riêng và vectơ riêng.\n",
        "  \n",
        "**Đề bài**:  \n",
        "Tạo ma trận 5x5 ngẫu nhiên và thực hiện các thao tác sau:  \n",
        "* Tính định thức (determinant) của ma trận.  \n",
        "* Tìm nghịch đảo (transpose) của ma trận.  \n",
        "* Tính các giá trị riêng (eigent value) và vectơ riêng (eigent vector) của ma trận.   \n",
        "(Phần này sẽ liên quan tới đại số tuyến tính, mọi người có thể tự tìm hiểu để hiểu chi tiết về các khái niệm trên)\n",
        "\n",
        "<details>\n",
        "  <summary>Hint</summary>\n",
        "\n",
        "```python\n",
        "import numpy as np\n",
        "\n",
        "# Generate a random 5x5 matrix\n",
        "matrix = np.random.rand(5, 5)\n",
        "\n",
        "# Compute determinant\n",
        "det = np.linalg.det(matrix)\n",
        "\n",
        "# Find inverse\n",
        "inverse = np.linalg.inv(matrix)\n",
        "\n",
        "# Calculate eigenvalues and eigenvectors\n",
        "eigenvalues, eigenvectors = np.linalg.eig(matrix)\n",
        "\n",
        "```\n",
        "</details>"
      ],
      "metadata": {
        "id": "jxgT4r6ovuvd"
      }
    },
    {
      "cell_type": "code",
      "execution_count": 4,
      "metadata": {
        "id": "-SEd8zd9tBN8",
        "colab": {
          "base_uri": "https://localhost:8080/"
        },
        "outputId": "e1c62c8a-19f6-42c6-e2d9-1b1869fa64ed"
      },
      "outputs": [
        {
          "output_type": "stream",
          "name": "stdout",
          "text": [
            "[[0.70159496 0.09843857 0.3645395  0.32362993 0.4087322 ]\n",
            " [0.20245393 0.2043484  0.49789438 0.30523379 0.83107812]\n",
            " [0.85600908 0.69739988 0.69119898 0.71408322 0.66767727]\n",
            " [0.77890276 0.54736394 0.62056792 0.27441622 0.37738589]\n",
            " [0.66999767 0.28850479 0.87677625 0.14825049 0.04944195]]\n",
            "-0.04296680448376478\n",
            "[[ 1.72468474 -0.7422489  -0.87909628  1.39966729 -0.59320986]\n",
            " [-2.06918075 -0.26809184  0.33989637  2.35049732 -0.91904829]\n",
            " [-0.70109222  0.70908071  0.1150615  -1.24411846  1.81923052]\n",
            " [ 0.23818405 -0.75132695  2.97482209 -3.97034053  0.79259208]\n",
            " [ 0.42117895  1.30112729 -1.03093255  1.28463637 -1.01050286]]\n",
            "[ 2.46899095+0.j          0.37407444+0.j         -0.50841771+0.j\n",
            " -0.20682359+0.22074171j -0.20682359-0.22074171j] [[-0.32424304+0.j         -0.71695555+0.j          0.23868623+0.j\n",
            "  -0.18556037-0.07140747j -0.18556037+0.07140747j]\n",
            " [-0.37217422+0.j          0.58982161+0.j          0.70553388+0.j\n",
            "  -0.62729337+0.j         -0.62729337-0.j        ]\n",
            " [-0.63097232+0.j          0.36024293+0.j         -0.03770594+0.j\n",
            "   0.38232267+0.09013351j  0.38232267-0.09013351j]\n",
            " [-0.45349815+0.j          0.07506975+0.j         -0.47642303+0.j\n",
            "   0.31697941+0.42712348j  0.31697941-0.42712348j]\n",
            " [-0.39059717+0.j          0.05171813+0.j         -0.46567176+0.j\n",
            "   0.0100878 -0.36008959j  0.0100878 +0.36008959j]]\n"
          ]
        }
      ],
      "source": [
        "# Your code here\n",
        "import numpy as np\n",
        "matrix = np.random.rand(5, 5)\n",
        "print(matrix)\n",
        "det = np.linalg.det(matrix)\n",
        "print(det)\n",
        "inverse = np.linalg.inv(matrix)\n",
        "print(inverse)\n",
        "eigenvalues, eigenvectors = np.linalg.eig(matrix)\n",
        "print(eigenvalues, eigenvectors)"
      ]
    },
    {
      "cell_type": "markdown",
      "source": [
        "# Bài tập 2: Optimization\n",
        "**Lý thuyết:**  \n",
        "Gradient descent là một thuật toán tối ưu hóa được sử dụng để cực tiểu hóa hàm bằng cách di chuyển lặp đi lặp lại theo hướng dốc xuống.\n",
        "\n",
        "**Đề bài:**  \n",
        "Triển khai gradient descent sử dụng NumPy để tối ưu hàm số sau:\n",
        " $$ f(x) = x^2 + 5 \\sin(x) $$\n",
        "<details>\n",
        "  <summary>Hint</summary>\n",
        "\n",
        "```python\n",
        "import numpy as np\n",
        "\n",
        "def gradient_descent(x, learning_rate, iterations):\n",
        "    for _ in range(iterations):\n",
        "        gradient = 2*x + 5*np.cos(x)  # Đạo hàm riêng theo x\n",
        "        x = x - learning_rate * gradient # Cập nhật tham số\n",
        "    return x\n",
        "\n",
        "# Khởi tạo các hyperparameters\n",
        "x_initial = 5  # Input đầu vào\n",
        "learning_rate = 0.1 # Tốc độ học\n",
        "iterations = 100 # Số lần lặp\n",
        "\n",
        "# Run gradient descent\n",
        "minima = gradient_descent(x_initial, learning_rate, iterations)\n",
        "```\n",
        "\n",
        "</details>"
      ],
      "metadata": {
        "id": "j5y16Eqkxd_o"
      }
    },
    {
      "cell_type": "code",
      "source": [
        "# Your code here\n",
        "import numpy as np\n",
        "\n",
        "def gradient_descent(x, learning_rate, iterations):\n",
        "    for _ in range(iterations):\n",
        "        gradient = 2*x + 5*np.cos(x)  # Đạo hàm riêng theo x\n",
        "        x = x - learning_rate * gradient # Cập nhật tham số\n",
        "    return x\n",
        "\n",
        "# Khởi tạo các hyperparameters\n",
        "x_initial = 5  # Input đầu vào\n",
        "learning_rate = 0.1 # Tốc độ học\n",
        "iterations = 100 # Số lần lặp\n",
        "\n",
        "# Run gradient descent\n",
        "minima = gradient_descent(x_initial, learning_rate, iterations)"
      ],
      "metadata": {
        "id": "s3Q3kOnuwxxW"
      },
      "execution_count": 5,
      "outputs": []
    },
    {
      "cell_type": "markdown",
      "source": [
        "# Bài tập 3: Phân tích thống kê  \n",
        "**Lý thuyết**:  \n",
        "NumPy cung cấp các chức năng để phân tích thống kê, bao gồm tính toán giá trị trung bình (mean), trung vị (median), độ lệch chuẩn (standard deviation) và mối tương quan (correlation).  \n",
        "\n",
        "**Đề Bài**:  \n",
        "Thực hiện phân tích thống kê trên tập dữ liệu bai3.csv bằng NumPy:  \n",
        "* Tính giá trị trung bình, trung vị và độ lệch chuẩn của tập dữ liệu.\n",
        "* Tính toán ma trận tương quan giữa các biến khác nhau.\n",
        "* Xác định các ngoại lệ trong tập dữ liệu bằng cách sử dụng điểm z.\n",
        "\n",
        "<details>\n",
        "  <summary>Hint</summary>\n",
        "\n",
        "```python\n",
        "  # Load dataset\n",
        "  data = np.loadtxt('dataset.csv', delimiter=',')\n",
        "\n",
        "  # Calculate mean, median, and standard deviation\n",
        "  mean = np.mean(data, axis=0)\n",
        "  median = np.median(data, axis=0)\n",
        "  std_dev = np.std(data, axis=0)\n",
        "\n",
        "  # Compute correlation matrix\n",
        "  correlation_matrix = np.corrcoef(data, rowvar=False)\n",
        "\n",
        "  # Identify outliers using z-scores\n",
        "  z_scores = np.abs((data - mean) / std_dev)\n",
        "  outliers = np.where(z_scores > 3)\n",
        "```\n",
        "</details>"
      ],
      "metadata": {
        "id": "r9TwMgo-y5tm"
      }
    },
    {
      "cell_type": "code",
      "source": [
        "# Your code here\n",
        "# Load dataset\n",
        "data = np.loadtxt('/content/bai3.csv', delimiter=',')\n",
        "\n",
        "# Calculate mean, median, and standard deviation\n",
        "mean = np.mean(data, axis=0)\n",
        "median = np.median(data, axis=0)\n",
        "std_dev = np.std(data, axis=0)\n",
        "\n",
        "# Compute correlation matrix\n",
        "correlation_matrix = np.corrcoef(data, rowvar=False)\n",
        "\n",
        "# Identify outliers using z-scores\n",
        "z_scores = np.abs((data - mean) / std_dev)\n",
        "outliers = np.where(z_scores > 3)"
      ],
      "metadata": {
        "id": "KjYxequp1pld",
        "colab": {
          "base_uri": "https://localhost:8080/",
          "height": 460
        },
        "outputId": "5f3666a7-6470-41e1-fa49-f57b492c2bbc"
      },
      "execution_count": 12,
      "outputs": [
        {
          "output_type": "error",
          "ename": "ValueError",
          "evalue": "could not convert string 'Variable1' to float64 at row 0, column 1.",
          "traceback": [
            "\u001b[0;31m---------------------------------------------------------------------------\u001b[0m",
            "\u001b[0;31mValueError\u001b[0m                                Traceback (most recent call last)",
            "\u001b[0;31mValueError\u001b[0m: could not convert string to float: 'Variable1'",
            "\nThe above exception was the direct cause of the following exception:\n",
            "\u001b[0;31mValueError\u001b[0m                                Traceback (most recent call last)",
            "\u001b[0;32m<ipython-input-12-f3f12a1f66f3>\u001b[0m in \u001b[0;36m<cell line: 3>\u001b[0;34m()\u001b[0m\n\u001b[1;32m      1\u001b[0m \u001b[0;31m# Your code here\u001b[0m\u001b[0;34m\u001b[0m\u001b[0;34m\u001b[0m\u001b[0m\n\u001b[1;32m      2\u001b[0m \u001b[0;31m# Load dataset\u001b[0m\u001b[0;34m\u001b[0m\u001b[0;34m\u001b[0m\u001b[0m\n\u001b[0;32m----> 3\u001b[0;31m \u001b[0mdata\u001b[0m \u001b[0;34m=\u001b[0m \u001b[0mnp\u001b[0m\u001b[0;34m.\u001b[0m\u001b[0mloadtxt\u001b[0m\u001b[0;34m(\u001b[0m\u001b[0;34m'/content/bai3.csv'\u001b[0m\u001b[0;34m,\u001b[0m \u001b[0mdelimiter\u001b[0m\u001b[0;34m=\u001b[0m\u001b[0;34m','\u001b[0m\u001b[0;34m)\u001b[0m\u001b[0;34m\u001b[0m\u001b[0;34m\u001b[0m\u001b[0m\n\u001b[0m\u001b[1;32m      4\u001b[0m \u001b[0;34m\u001b[0m\u001b[0m\n\u001b[1;32m      5\u001b[0m \u001b[0;31m# Calculate mean, median, and standard deviation\u001b[0m\u001b[0;34m\u001b[0m\u001b[0;34m\u001b[0m\u001b[0m\n",
            "\u001b[0;32m/usr/local/lib/python3.10/dist-packages/numpy/lib/npyio.py\u001b[0m in \u001b[0;36mloadtxt\u001b[0;34m(fname, dtype, comments, delimiter, converters, skiprows, usecols, unpack, ndmin, encoding, max_rows, quotechar, like)\u001b[0m\n\u001b[1;32m   1371\u001b[0m         \u001b[0mdelimiter\u001b[0m \u001b[0;34m=\u001b[0m \u001b[0mdelimiter\u001b[0m\u001b[0;34m.\u001b[0m\u001b[0mdecode\u001b[0m\u001b[0;34m(\u001b[0m\u001b[0;34m'latin1'\u001b[0m\u001b[0;34m)\u001b[0m\u001b[0;34m\u001b[0m\u001b[0;34m\u001b[0m\u001b[0m\n\u001b[1;32m   1372\u001b[0m \u001b[0;34m\u001b[0m\u001b[0m\n\u001b[0;32m-> 1373\u001b[0;31m     arr = _read(fname, dtype=dtype, comment=comment, delimiter=delimiter,\n\u001b[0m\u001b[1;32m   1374\u001b[0m                 \u001b[0mconverters\u001b[0m\u001b[0;34m=\u001b[0m\u001b[0mconverters\u001b[0m\u001b[0;34m,\u001b[0m \u001b[0mskiplines\u001b[0m\u001b[0;34m=\u001b[0m\u001b[0mskiprows\u001b[0m\u001b[0;34m,\u001b[0m \u001b[0musecols\u001b[0m\u001b[0;34m=\u001b[0m\u001b[0musecols\u001b[0m\u001b[0;34m,\u001b[0m\u001b[0;34m\u001b[0m\u001b[0;34m\u001b[0m\u001b[0m\n\u001b[1;32m   1375\u001b[0m                 \u001b[0munpack\u001b[0m\u001b[0;34m=\u001b[0m\u001b[0munpack\u001b[0m\u001b[0;34m,\u001b[0m \u001b[0mndmin\u001b[0m\u001b[0;34m=\u001b[0m\u001b[0mndmin\u001b[0m\u001b[0;34m,\u001b[0m \u001b[0mencoding\u001b[0m\u001b[0;34m=\u001b[0m\u001b[0mencoding\u001b[0m\u001b[0;34m,\u001b[0m\u001b[0;34m\u001b[0m\u001b[0;34m\u001b[0m\u001b[0m\n",
            "\u001b[0;32m/usr/local/lib/python3.10/dist-packages/numpy/lib/npyio.py\u001b[0m in \u001b[0;36m_read\u001b[0;34m(fname, delimiter, comment, quote, imaginary_unit, usecols, skiplines, max_rows, converters, ndmin, unpack, dtype, encoding)\u001b[0m\n\u001b[1;32m   1014\u001b[0m \u001b[0;34m\u001b[0m\u001b[0m\n\u001b[1;32m   1015\u001b[0m         \u001b[0;32mif\u001b[0m \u001b[0mread_dtype_via_object_chunks\u001b[0m \u001b[0;32mis\u001b[0m \u001b[0;32mNone\u001b[0m\u001b[0;34m:\u001b[0m\u001b[0;34m\u001b[0m\u001b[0;34m\u001b[0m\u001b[0m\n\u001b[0;32m-> 1016\u001b[0;31m             arr = _load_from_filelike(\n\u001b[0m\u001b[1;32m   1017\u001b[0m                 \u001b[0mdata\u001b[0m\u001b[0;34m,\u001b[0m \u001b[0mdelimiter\u001b[0m\u001b[0;34m=\u001b[0m\u001b[0mdelimiter\u001b[0m\u001b[0;34m,\u001b[0m \u001b[0mcomment\u001b[0m\u001b[0;34m=\u001b[0m\u001b[0mcomment\u001b[0m\u001b[0;34m,\u001b[0m \u001b[0mquote\u001b[0m\u001b[0;34m=\u001b[0m\u001b[0mquote\u001b[0m\u001b[0;34m,\u001b[0m\u001b[0;34m\u001b[0m\u001b[0;34m\u001b[0m\u001b[0m\n\u001b[1;32m   1018\u001b[0m                 \u001b[0mimaginary_unit\u001b[0m\u001b[0;34m=\u001b[0m\u001b[0mimaginary_unit\u001b[0m\u001b[0;34m,\u001b[0m\u001b[0;34m\u001b[0m\u001b[0;34m\u001b[0m\u001b[0m\n",
            "\u001b[0;31mValueError\u001b[0m: could not convert string 'Variable1' to float64 at row 0, column 1."
          ]
        }
      ]
    },
    {
      "cell_type": "markdown",
      "source": [
        "# Bài 4: Thao tác với tensor\n",
        "Đề cho một tensor đại diện cho một hình ảnh thang độ xám. Thực hiện các thao tác sau:\n",
        "\n",
        "1. Reshape: Reshape tensor thành một hình dạng khác trong khi vẫn đảm bảo tổng số phần tử không đổi.\n",
        "2. Transpose: Transpose tensor dọc theo các trục được chỉ định.\n",
        "3. Slice: Trích xuất một tập hợp con của tensor bằng cách cắt dọc theo các kích thước được chỉ định.\n",
        "4. Concatenate: Concatenate nhiều tensor dọc theo các trục được chỉ định.\n",
        "5. Các phép toán theo phần tử: Thực hiện các phép toán theo phần tử như cộng, trừ, nhân và chia với các giá trị vô hướng hoặc các tensor khác.\n",
        "6. Hoạt động rút gọn: Thực hiện các hoạt động rút gọn như tính tổng, trung bình, tối thiểu và tối đa dọc theo các trục được chỉ định.\n",
        "7. Indexing: Truy cập các phần tử riêng lẻ hoặc các tensor phụ bằng cách sử dụng các chỉ số nguyên hoặc boolean mark.\n",
        "\n",
        "<details>\n",
        "  <summary>Hint</summary>\n",
        "\n",
        "  ```python\n",
        "    # 1. Reshape the tensor\n",
        "    reshaped_tensor = image_tensor.reshape(1, 9)\n",
        "\n",
        "    # 2. Transpose the tensor\n",
        "    transposed_tensor = image_tensor.T\n",
        "\n",
        "    # 3. Slice the tensor\n",
        "    sliced_tensor = image_tensor[:2, :2]\n",
        "\n",
        "    # 4. Concatenate tensors\n",
        "    concatenated_tensor = np.concatenate((image_tensor, image_tensor), axis=0)\n",
        "\n",
        "    # 5. Element-wise operations\n",
        "    added_tensor = image_tensor + 0.1\n",
        "    multiplied_tensor = image_tensor * 2\n",
        "\n",
        "    # 6. Reduction operations\n",
        "    sum_tensor = np.sum(image_tensor)\n",
        "    mean_tensor = np.mean(image_tensor, axis=0)\n",
        "    max_tensor = np.max(image_tensor, axis=1)\n",
        "\n",
        "    # 7. Indexing\n",
        "    element = image_tensor[1, 2]\n",
        "  ```\n",
        "</details>"
      ],
      "metadata": {
        "id": "ZX1eKlF805bM"
      }
    },
    {
      "cell_type": "code",
      "source": [
        "image_tensor = np.array([\n",
        "    [0.1, 0.2, 0.3],\n",
        "    [0.4, 0.5, 0.6],\n",
        "    [0.7, 0.8, 0.9]\n",
        "])"
      ],
      "metadata": {
        "id": "sKx_zUMw041d"
      },
      "execution_count": 14,
      "outputs": []
    },
    {
      "cell_type": "code",
      "source": [
        "# your code here\n",
        "# 1. Reshape the tensor\n",
        "reshaped_tensor = image_tensor.reshape(1, 9)\n",
        "\n",
        "# 2. Transpose the tensor\n",
        "transposed_tensor = image_tensor.T\n",
        "\n",
        "# 3. Slice the tensor\n",
        "sliced_tensor = image_tensor[:2, :2]\n",
        "\n",
        "# 4. Concatenate tensors\n",
        "concatenated_tensor = np.concatenate((image_tensor, image_tensor), axis=0)\n",
        "\n",
        "# 5. Element-wise operations\n",
        "added_tensor = image_tensor + 0.1\n",
        "multiplied_tensor = image_tensor * 2\n",
        "\n",
        "# 6. Reduction operations\n",
        "sum_tensor = np.sum(image_tensor)\n",
        "mean_tensor = np.mean(image_tensor, axis=0)\n",
        "max_tensor = np.max(image_tensor, axis=1)\n",
        "\n",
        "# 7. Indexing\n",
        "element = image_tensor[1, 2]"
      ],
      "metadata": {
        "id": "aDy3tPzby5RN"
      },
      "execution_count": 15,
      "outputs": []
    }
  ]
}