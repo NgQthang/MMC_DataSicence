{
  "nbformat": 4,
  "nbformat_minor": 0,
  "metadata": {
    "colab": {
      "provenance": []
    },
    "kernelspec": {
      "name": "python3",
      "display_name": "Python 3"
    },
    "language_info": {
      "name": "python"
    }
  },
  "cells": [
    {
      "cell_type": "markdown",
      "source": [
        "# **Tuple trong Python**"
      ],
      "metadata": {
        "id": "nKcqF-mUogGL"
      }
    },
    {
      "cell_type": "markdown",
      "source": [
        "##Mục lục\n",
        "\n",
        "1. Giới thiệu về Tuple trong Python\n",
        "2. Các thao tác với Tuple\n",
        "- Tạo một tuple\n",
        "- Truy cập các phần tử tuple\n",
        "  - Index (chỉ mục) của Tuple\n",
        "  - Index (chỉ mục) âm\n",
        "  - Slicing\n",
        "- Thay đổi phần tử Tuple\n",
        "- Xóa phần tử Tuple\n",
        "- Kiểm tra phần tử trong Tuple\n",
        "- Lặp qua các phần tử của Tuple\n",
        "3. Phương thức dùng với Tuple trong Python\n",
        "4. Các hàm dùng với Tuple\n",
        "5. - Bài tập\n",
        "   - Answer\n",
        "*End*"
      ],
      "metadata": {
        "id": "m4hQKnmmakNW"
      }
    },
    {
      "cell_type": "markdown",
      "source": [
        "#1. Giới thiệu về Tuple trong Python"
      ],
      "metadata": {
        "id": "eZhI9WGGaeon"
      }
    },
    {
      "cell_type": "markdown",
      "source": [
        "Tuple trong Python là một kiểu dữ liệu dùng để lưu trữ các đối tượng có thứ tự và bất biến. Cách lưu trữ của nó cũng khá giống với kiểu dữ liệu List. Tuy nhiên, sự khác biệt giữa List và Tuple, đó là List có thể thay đổi (mutability) trong khi Tuple là bất biến (immutability).\n",
        "\n"
      ],
      "metadata": {
        "id": "lIBhP4sXoEuS"
      }
    },
    {
      "cell_type": "markdown",
      "source": [
        "#2. Các thao tác với Tuple"
      ],
      "metadata": {
        "id": "ghhrOuUHkHZZ"
      }
    },
    {
      "cell_type": "markdown",
      "source": [
        "## Tạo một Tuple\n",
        "Tuple thường được sử dụng cho các dữ liệu không cho phép sửa đổi. Chúng được tạo ra bằng cách đặt tất cả các items/elements bên trong dấu ngoặc đơn `()` và được phân tách bằng dấu phẩy `,` ."
      ],
      "metadata": {
        "id": "NUdvGZzFojH5"
      }
    },
    {
      "cell_type": "code",
      "execution_count": 11,
      "metadata": {
        "colab": {
          "base_uri": "https://localhost:8080/"
        },
        "id": "0vDoFs8cm2eR",
        "outputId": "5e4e3143-aa5f-4dbe-ffc2-599114f45fd3"
      },
      "outputs": [
        {
          "output_type": "stream",
          "name": "stdout",
          "text": [
            "()\n",
            "(1, 2, 3)\n",
            "(1, 'Hello', 3.4)\n",
            "('mouse', [8, 4, 6], (1, 2, 3))\n"
          ]
        }
      ],
      "source": [
        "# Different types of tuples\n",
        "\n",
        "# Empty tuple\n",
        "my_tuple = ()\n",
        "print(my_tuple)\n",
        "\n",
        "# Tuple having integers\n",
        "my_tuple = (1, 2, 3)\n",
        "print(my_tuple)\n",
        "\n",
        "# tuple with mixed data types\n",
        "my_tuple = (1, \"Hello\", 3.4)\n",
        "print(my_tuple)\n",
        "\n",
        "# nested tuple\n",
        "my_tuple = (\"mouse\", [8, 4, 6], (1, 2, 3))\n",
        "print(my_tuple)"
      ]
    },
    {
      "cell_type": "markdown",
      "source": [
        "Một Tuple cũng có thể được tạo mà không cần sử dụng dấu ngoặc đơn, được gọi là `tuple packing`."
      ],
      "metadata": {
        "id": "B-f57wsEpImJ"
      }
    },
    {
      "cell_type": "code",
      "source": [
        "my_tuple = 3, 4.6, \"dog\"\n",
        "print(my_tuple)\n",
        "\n",
        "# tuple unpacking is also possible\n",
        "a, b, c = my_tuple\n",
        "\n",
        "print(a)      # 3\n",
        "print(b)      # 4.6\n",
        "print(c)      # dog"
      ],
      "metadata": {
        "colab": {
          "base_uri": "https://localhost:8080/"
        },
        "id": "ZmZ5BVE9pKhl",
        "outputId": "e32f5585-65e4-40a9-80be-76cf440bde60"
      },
      "execution_count": 12,
      "outputs": [
        {
          "output_type": "stream",
          "name": "stdout",
          "text": [
            "(3, 4.6, 'dog')\n",
            "3\n",
            "4.6\n",
            "dog\n"
          ]
        }
      ]
    },
    {
      "cell_type": "markdown",
      "source": [
        "Để viết một tuple chứa một giá trị duy nhất, bạn bắt buộc phải thêm một dấu phẩy đằng sau giá trị đó:"
      ],
      "metadata": {
        "id": "kNClhjzApOBy"
      }
    },
    {
      "cell_type": "code",
      "source": [
        "my_tuple = (\"hello\")\n",
        "print(type(my_tuple))  # <class 'str'>\n",
        "\n",
        "# Creating a tuple having one element\n",
        "my_tuple = (\"hello\",)\n",
        "print(type(my_tuple))  # <class 'tuple'>\n",
        "\n",
        "# Parentheses is optional\n",
        "my_tuple = \"hello\",\n",
        "print(type(my_tuple))  # <class 'tuple'>"
      ],
      "metadata": {
        "colab": {
          "base_uri": "https://localhost:8080/"
        },
        "id": "oPVF7zimpO1x",
        "outputId": "ad1bf84f-6017-4a35-f6f6-78886d04bc67"
      },
      "execution_count": 13,
      "outputs": [
        {
          "output_type": "stream",
          "name": "stdout",
          "text": [
            "<class 'str'>\n",
            "<class 'tuple'>\n",
            "<class 'tuple'>\n"
          ]
        }
      ]
    },
    {
      "cell_type": "markdown",
      "source": [
        "## Truy cập các phần tử Tuple\n",
        "Có nhiều cách khác nhau để chúng ta có thể truy cập các phần tử của một tuple."
      ],
      "metadata": {
        "id": "VSX2eTU-pTTb"
      }
    },
    {
      "cell_type": "markdown",
      "source": [
        "## Index (chỉ mục) của Tuple\n",
        "Sử dụng toán tử index `[]` để truy cập vào một phần tử của tuple. Index bắt đầu từ 0, nên một tuple có 6 phần tử sẽ có index từ 0 đến 5. Truy cập vào phần tử có index khác index của tuple sẽ làm phát sinh lỗi `IndexError`. Index phải là một số nguyên, không thể sử dụng float, hay kiểu dữ liệu khác, sẽ tạo lỗi `TypeError`."
      ],
      "metadata": {
        "id": "ay5UABdKpYbd"
      }
    },
    {
      "cell_type": "code",
      "source": [
        "# Accessing tuple elements using indexing\n",
        "my_tuple = ('p','e','r','m','i','t')\n",
        "\n",
        "print(my_tuple[0])   # 'p'\n",
        "print(my_tuple[5])   # 't'\n",
        "\n",
        "# IndexError: list index out of range\n",
        "# print(my_tuple[6])\n",
        "\n",
        "# Index must be an integer\n",
        "# TypeError: list indices must be integers, not float\n",
        "# my_tuple[2.0]\n",
        "\n",
        "# nested tuple\n",
        "n_tuple = (\"mouse\", [8, 4, 6], (1, 2, 3))\n",
        "\n",
        "# nested index\n",
        "print(n_tuple[0][3])       # 's'\n",
        "print(n_tuple[1][1])       # 4\n"
      ],
      "metadata": {
        "colab": {
          "base_uri": "https://localhost:8080/"
        },
        "id": "RS9jeM6DpfXR",
        "outputId": "cec08856-0187-432e-b594-0c8c46d51808"
      },
      "execution_count": 14,
      "outputs": [
        {
          "output_type": "stream",
          "name": "stdout",
          "text": [
            "p\n",
            "t\n",
            "s\n",
            "4\n"
          ]
        }
      ]
    },
    {
      "cell_type": "markdown",
      "source": [
        "## Index (chỉ mục) âm\n",
        "Python cho phép lập chỉ mục âm cho các chuỗi. Index -1 là phần tử cuối cùng, -2 là phần tử thứ 2 từ cuối cùng lên,…. Nói đơn giản là index âm dùng khi bạn đếm phần tử của chuỗi ngược từ cuối lên đầu."
      ],
      "metadata": {
        "id": "OyzihagQpnNm"
      }
    },
    {
      "cell_type": "code",
      "source": [
        "# Negative indexing for accessing tuple elements\n",
        "my_tuple = ('p', 'e', 'r', 'm', 'i', 't')\n",
        "\n",
        "# Output: 't'\n",
        "print(my_tuple[-1])\n",
        "\n",
        "# Output: 'p'\n",
        "print(my_tuple[-6])"
      ],
      "metadata": {
        "id": "lYl6CS5sppVp",
        "colab": {
          "base_uri": "https://localhost:8080/"
        },
        "outputId": "7dacec8d-05de-40de-8403-957da67c9839"
      },
      "execution_count": 15,
      "outputs": [
        {
          "output_type": "stream",
          "name": "stdout",
          "text": [
            "t\n",
            "p\n"
          ]
        }
      ]
    },
    {
      "cell_type": "markdown",
      "source": [
        "## Slicing\n",
        "Chúng ta có thể truy cập một loạt các phần tử trong một tuple trong Python bằng cách sử dụng dấu hai chấm : của toán tử cắt (Slicing)."
      ],
      "metadata": {
        "id": "v5DkxdXSprKd"
      }
    },
    {
      "cell_type": "code",
      "source": [
        "# Accessing tuple elements using slicing\n",
        "my_tuple = ('p','r','o','g','r','a','m','i','z')\n",
        "\n",
        "# elements 2nd to 4th\n",
        "# Output: ('r', 'o', 'g')\n",
        "print(my_tuple[1:4])\n",
        "\n",
        "# elements beginning to 2nd\n",
        "# Output: ('p', 'r')\n",
        "print(my_tuple[:-7])\n",
        "\n",
        "# elements 8th to end\n",
        "# Output: ('i', 'z')\n",
        "print(my_tuple[7:])\n",
        "\n",
        "# elements beginning to end\n",
        "# Output: ('p', 'r', 'o', 'g', 'r', 'a', 'm', 'i', 'z')\n",
        "print(my_tuple[:])"
      ],
      "metadata": {
        "colab": {
          "base_uri": "https://localhost:8080/"
        },
        "id": "YYoU3Q1SputU",
        "outputId": "7e0e08b4-c73a-43ac-f2a1-2edccfbff698"
      },
      "execution_count": 16,
      "outputs": [
        {
          "output_type": "stream",
          "name": "stdout",
          "text": [
            "('r', 'o', 'g')\n",
            "('p', 'r')\n",
            "('i', 'z')\n",
            "('p', 'r', 'o', 'g', 'r', 'a', 'm', 'i', 'z')\n"
          ]
        }
      ]
    },
    {
      "cell_type": "markdown",
      "source": [
        "## Thay đổi phần tử Tuple\n",
        "Không giống như List, Tuple không thể thay đổi. Điều này có nghĩa là các phần tử của một tuple không thể thay đổi một khi đã được gán. Nhưng, nếu bản thân phần tử đó là một kiểu dữ liệu có thể thay đổi (như list chẳng hạn) thì các phần tử lồng nhau có thể được thay đổi. Chúng ta cũng có thể gán giá trị khác cho tuple (gọi là gán lại – reassignment)."
      ],
      "metadata": {
        "id": "_o-iDoFvp04x"
      }
    },
    {
      "cell_type": "code",
      "source": [
        "# Changing tuple values\n",
        "my_tuple = (4, 2, 3, [6, 5])\n",
        "\n",
        "\n",
        "# TypeError: 'tuple' object does not support item assignment\n",
        "# my_tuple[1] = 9\n",
        "\n",
        "# However, item of mutable element can be changed\n",
        "my_tuple[3][0] = 9    # Output: (4, 2, 3, [9, 5])\n",
        "print(my_tuple)\n",
        "\n",
        "# Tuples can be reassigned\n",
        "my_tuple = ('p', 'r', 'o', 'g', 'r', 'a', 'm', 'i', 'z')\n",
        "\n",
        "# Output: ('p', 'r', 'o', 'g', 'r', 'a', 'm', 'i', 'z')\n",
        "print(my_tuple)"
      ],
      "metadata": {
        "id": "z0fXam52p0JC",
        "colab": {
          "base_uri": "https://localhost:8080/"
        },
        "outputId": "11238321-f529-4e66-f6d1-db1151c34fda"
      },
      "execution_count": 17,
      "outputs": [
        {
          "output_type": "stream",
          "name": "stdout",
          "text": [
            "(4, 2, 3, [9, 5])\n",
            "('p', 'r', 'o', 'g', 'r', 'a', 'm', 'i', 'z')\n"
          ]
        }
      ]
    },
    {
      "cell_type": "markdown",
      "source": [
        "Ngoài ra, chúng ta có thể sử dụng toán tử + để kết hợp hai tuple, hoặc cũng có thể lặp lại các phần tử trong một tuple với một số lần nhất định bằng cách sử dụng toán tử *. Cả hai phép toán + và * đều dẫn đến một tuple mới."
      ],
      "metadata": {
        "id": "o2yRW_wgqWG1"
      }
    },
    {
      "cell_type": "code",
      "source": [
        "# Concatenation\n",
        "# Output: (1, 2, 3, 4, 5, 6)\n",
        "print((1, 2, 3) + (4, 5, 6))\n",
        "\n",
        "# Repeat\n",
        "# Output: ('Repeat', 'Repeat', 'Repeat')\n",
        "print((\"Repeat\",) * 3)"
      ],
      "metadata": {
        "colab": {
          "base_uri": "https://localhost:8080/"
        },
        "id": "DEd9qYdhqXiy",
        "outputId": "ec02abc2-b8db-40a1-90a8-1e98265c0ef9"
      },
      "execution_count": 18,
      "outputs": [
        {
          "output_type": "stream",
          "name": "stdout",
          "text": [
            "(1, 2, 3, 4, 5, 6)\n",
            "('Repeat', 'Repeat', 'Repeat')\n"
          ]
        }
      ]
    },
    {
      "cell_type": "markdown",
      "source": [
        "## Xóa phần tử Tuple\n",
        "Như đã thảo luận ở trên, chúng ta không thể thay đổi các phần tử trong một tuple. Điều này có nghĩa là, bạn không thể xóa hoặc loại bỏ các giá trị ra khỏi một tuple mà chỉ có thể xóa cả tuple đi mà thôi.\n",
        "\n",
        "Để xóa một hay nhiều tuple thì chúng ta sử dụng hàm `del`."
      ],
      "metadata": {
        "id": "GztsaUw3qhkO"
      }
    },
    {
      "cell_type": "code",
      "source": [
        "# Deleting tuples\n",
        "my_tuple = ('p', 'r', 'o', 'g', 'r', 'a', 'm', 'i', 'z')\n",
        "\n",
        "# can't delete items\n",
        "# TypeError: 'tuple' object doesn't support item deletion\n",
        "# del my_tuple[3]\n",
        "\n",
        "# Can delete an entire tuple\n",
        "del my_tuple\n",
        "\n",
        "# NameError: name 'my_tuple' is not defined\n",
        "#print(my_tuple)"
      ],
      "metadata": {
        "id": "lq4DhIKIqdBd"
      },
      "execution_count": 19,
      "outputs": []
    },
    {
      "cell_type": "markdown",
      "source": [
        "## Kiểm tra phần tử trong Tuple\n",
        "Bạn có thể kiểm tra xem một phần tử đã tồn tại trong tuple hay chưa với từ khóa `in`."
      ],
      "metadata": {
        "id": "2yQ-xtmSrH-J"
      }
    },
    {
      "cell_type": "code",
      "source": [
        "# Membership test in tuple\n",
        "my_tuple = ('a', 'p', 'p', 'l', 'e',)\n",
        "\n",
        "# In operation\n",
        "print('a' in my_tuple)\n",
        "print('b' in my_tuple)\n",
        "\n",
        "# Not in operation\n",
        "print('g' not in my_tuple)"
      ],
      "metadata": {
        "colab": {
          "base_uri": "https://localhost:8080/"
        },
        "id": "RQObDDO0rLxR",
        "outputId": "011bf89a-ee0d-43fa-c44e-cab59b8c0fd9"
      },
      "execution_count": 20,
      "outputs": [
        {
          "output_type": "stream",
          "name": "stdout",
          "text": [
            "True\n",
            "False\n",
            "True\n"
          ]
        }
      ]
    },
    {
      "cell_type": "markdown",
      "source": [
        "## Lặp qua các phần tử của Tuple trong Python\n",
        "Sử dụng vòng lặp `for` để lặp qua các phần tử trong tuple:"
      ],
      "metadata": {
        "id": "arYOmrC2rNwZ"
      }
    },
    {
      "cell_type": "code",
      "source": [
        "# Using a for loop to iterate through a tuple\n",
        "names = ('John', 'Kate')\n",
        "for name in names:\n",
        "    print(\"Hello\", name)"
      ],
      "metadata": {
        "colab": {
          "base_uri": "https://localhost:8080/"
        },
        "id": "tn1vPJwGrQhG",
        "outputId": "1610b0cc-5bf6-4075-984e-093aaa51f37d"
      },
      "execution_count": 21,
      "outputs": [
        {
          "output_type": "stream",
          "name": "stdout",
          "text": [
            "Hello John\n",
            "Hello Kate\n"
          ]
        }
      ]
    },
    {
      "cell_type": "markdown",
      "source": [
        "#3. Phương thức dùng với Tuple trong Python"
      ],
      "metadata": {
        "id": "U6QhFaSMqyUe"
      }
    },
    {
      "cell_type": "markdown",
      "source": [
        "Rõ ràng, phương thức thêm phần tử và xóa phần tử không thể sử dụng với tuple. Tuy nhiên,  có 2 phương thức sau bạn có thể ghi nhớ để sử dụng:\n",
        "\n",
        "* **count(x):** Đếm số phần tử x trong tuple\n",
        "* **index(x):** Trả về giá trị index của phần tử x đầu tiên mà nó gặp trong tuple"
      ],
      "metadata": {
        "id": "gYanHQdAq7x1"
      }
    },
    {
      "cell_type": "code",
      "source": [
        "my_tuple = ('a', 'p', 'p', 'l', 'e',)\n",
        "\n",
        "print(my_tuple.count('p'))  # Output: 2\n",
        "print(my_tuple.index('l'))  # Output: 3"
      ],
      "metadata": {
        "colab": {
          "base_uri": "https://localhost:8080/"
        },
        "id": "izbNsdsfqt0p",
        "outputId": "9e2587a8-e5f4-4724-fcb8-5bbce0e1a398"
      },
      "execution_count": 22,
      "outputs": [
        {
          "output_type": "stream",
          "name": "stdout",
          "text": [
            "2\n",
            "3\n"
          ]
        }
      ]
    },
    {
      "cell_type": "markdown",
      "source": [
        "#4. Các hàm dùng với Tuple"
      ],
      "metadata": {
        "id": "e3otlqsvddT7"
      }
    },
    {
      "cell_type": "markdown",
      "source": [
        "<table class=\"alt\">\n",
        "<tbody><tr>\n",
        "<th style=\"width:5%\">STT</th><th style=\"width:45%\">Hàm</th><th style=\"width:50%\">Miêu tả</th></tr>\n",
        "<tr><td>1</td><td>len(tuple)</td><td>Trả về độ dài của tuple</td></tr>\n",
        "<tr><td>2</td><td>max(tuple)</td><td>Trả về item có giá trị lớn nhất từ một tuple đã cho</td></tr>\n",
        "<tr><td>3</td><td>min(tuple)</td><td>Trả về item có giá trị nhỏ nhất từ một tuple đã cho</td></tr>\n",
        "<tr><td>4</td><td>tuple(seq)</td><td>Chuyển đổi một dãy thành tuple</td></tr>\n",
        "</tbody></table>\n"
      ],
      "metadata": {
        "id": "fHywbNTvAwB8"
      }
    },
    {
      "cell_type": "code",
      "source": [
        "# Khai báo một tuple\n",
        "my_tuple = (10, 20, 30, 40, 50)"
      ],
      "metadata": {
        "id": "hpC05Yxmds0X"
      },
      "execution_count": 23,
      "outputs": []
    },
    {
      "cell_type": "code",
      "source": [
        "# Sử dụng hàm len() để lấy độ dài của tuple\n",
        "length = len(my_tuple)\n",
        "\n",
        "print(\"Độ dài của tuple:\", length)"
      ],
      "metadata": {
        "id": "QAUR_Z4cdytP",
        "colab": {
          "base_uri": "https://localhost:8080/"
        },
        "outputId": "d55eef38-07d7-4def-f24a-9f4a73826558"
      },
      "execution_count": 24,
      "outputs": [
        {
          "output_type": "stream",
          "name": "stdout",
          "text": [
            "Độ dài của tuple: 5\n"
          ]
        }
      ]
    },
    {
      "cell_type": "code",
      "source": [
        "# Sử dụng hàm max() để lấy giá trị lớn nhất trong tuple\n",
        "max_value = max(my_tuple)\n",
        "\n",
        "print(\"Giá trị lớn nhất trong tuple:\", max_value)"
      ],
      "metadata": {
        "id": "4aTMRmHgd0Fg",
        "colab": {
          "base_uri": "https://localhost:8080/"
        },
        "outputId": "cafb04f0-11b0-4419-eae4-3024e788aa85"
      },
      "execution_count": 25,
      "outputs": [
        {
          "output_type": "stream",
          "name": "stdout",
          "text": [
            "Giá trị lớn nhất trong tuple: 50\n"
          ]
        }
      ]
    },
    {
      "cell_type": "code",
      "source": [
        "# Sử dụng hàm min() để lấy giá trị nhỏ nhất trong tuple\n",
        "min_value = min(my_tuple)\n",
        "\n",
        "print(\"Giá trị nhỏ nhất trong tuple:\", min_value)"
      ],
      "metadata": {
        "id": "bW57rNK4d679",
        "colab": {
          "base_uri": "https://localhost:8080/"
        },
        "outputId": "01f9f59e-3dea-4575-b1b4-84d787778bc7"
      },
      "execution_count": 26,
      "outputs": [
        {
          "output_type": "stream",
          "name": "stdout",
          "text": [
            "Giá trị nhỏ nhất trong tuple: 10\n"
          ]
        }
      ]
    },
    {
      "cell_type": "code",
      "source": [
        "# Sử dụng hàm tuple() để chuyển đổi một dãy thành tuple\n",
        "my_list = [1, 2, 3, 4, 5]\n",
        "converted_tuple = tuple(my_list)\n",
        "\n",
        "print(\"Tuple sau khi chuyển đổi từ list:\", converted_tuple)"
      ],
      "metadata": {
        "id": "Wr2AZ9uOd8kI",
        "colab": {
          "base_uri": "https://localhost:8080/"
        },
        "outputId": "3a278030-85cd-4e32-81f6-be56130d6685"
      },
      "execution_count": 27,
      "outputs": [
        {
          "output_type": "stream",
          "name": "stdout",
          "text": [
            "Tuple sau khi chuyển đổi từ list: (1, 2, 3, 4, 5)\n"
          ]
        }
      ]
    },
    {
      "cell_type": "markdown",
      "source": [
        "#5. Bài tập về Tuple"
      ],
      "metadata": {
        "id": "2hpm70kKmZe2"
      }
    },
    {
      "cell_type": "markdown",
      "source": [
        "##**Bài tập**"
      ],
      "metadata": {
        "id": "l6UEs92XeKHE"
      }
    },
    {
      "cell_type": "markdown",
      "source": [
        "### Bài tập 1: Quản lý sản phẩm\n",
        "\n",
        "Do công ty nợ lương, bạn xin nghỉ về nhà bán quần áo online, bạn cần quản lý thông tin về các sản phẩm. Mỗi sản phẩm được đại diện bởi một tuple gồm tên sản phẩm, giá tiền và số lượng tồn kho.\n",
        "\n",
        "Yêu cầu:\n",
        "\n",
        "1. Tạo một tuple chứa thông tin về sản phẩm đầu tiên: `(\"Áo thun\", 150000, 50)`.\n",
        "2. Thay đổi giá tiền của sản phẩm đó thành 170000.\n",
        "3. In ra số lượng tồn kho của sản phẩm đó.\n",
        "4. Tạo một danh sách chứa thông tin về sản phẩm gồm ít nhất 3 sản phẩm, và in ra tổng số lượng tồn kho của tất cả các sản phẩm."
      ],
      "metadata": {
        "id": "OzK74pc2mdOH"
      }
    },
    {
      "cell_type": "markdown",
      "source": [
        "### Bài tập 2: Quản lý điểm số\n",
        "\n",
        "Quay về với đội tuyển tiếng Anh, do danh sách chỉ có điểm số nên bạn không biết điểm nào là của ai. Lớp bạn có 4 học sinh là An, Bảo, Châu, Đạt với điểm thi lần lượt là 10, 9.6, 9.5, 9.4. Mỗi học sinh được đại diện bởi một tuple gồm tên học sinh và điểm số.\n",
        "\n",
        "Yêu cầu:\n",
        "\n",
        "1. Tạo một danh sách chứa thông tin về điểm số, mỗi học sinh là một tuple gồm tên và điểm số.\n",
        "2. In ra điểm số cao nhất và thấp nhất trong danh sách.\n",
        "3. In ra tên của học sinh có điểm số cao nhất và thấp nhất.\n"
      ],
      "metadata": {
        "id": "rAEe7q38ndEV"
      }
    },
    {
      "cell_type": "markdown",
      "source": [
        "### Bài tập 3: Phân loại học sinh\n",
        "\n",
        "Đội tuyển trượt giải nên bạn bị phân về dạy lớp thường, bạn muốn phân loại các học sinh trong lớp của mình dựa trên điểm số. Cao hơn hoặc bằng 8 là học sinh giỏi.\n",
        "\n",
        "Yêu cầu:\n",
        "\n",
        "1. Tạo một danh sách chứa thông tin về điểm số của ít nhất 5 học sinh, mỗi học sinh là một tuple gồm tên và điểm số.\n",
        "2. Dùng hàm `len()` để tính số lượng học sinh có điểm số cao hơn hoặc bằng 8.\n",
        "3. Tạo danh sách gồm tên học sinh giỏi trong lớp của bạn.\n",
        "4. Hiện tại bạn đã có danh sách học sinh giỏi để nộp lên nhà trường xin giấy khen, hãy dùng hàm tuple() để bảo vệ dữ liệu không bị sửa đổi."
      ],
      "metadata": {
        "id": "2Dhu4BK2ntRi"
      }
    },
    {
      "cell_type": "markdown",
      "source": [
        "##**Answer**"
      ],
      "metadata": {
        "id": "zn7BPSIkeQ55"
      }
    },
    {
      "cell_type": "markdown",
      "source": [
        "### Bài tập 1: Quản lý sản phẩm\n",
        "\n",
        "Do công ty nợ lương, bạn xin nghỉ về nhà bán quần áo online, bạn cần quản lý thông tin về các sản phẩm. Mỗi sản phẩm được đại diện bởi một tuple gồm tên sản phẩm, giá tiền và số lượng tồn kho.\n",
        "\n",
        "Yêu cầu:\n",
        "\n",
        "1. Tạo một tuple chứa thông tin về sản phẩm đầu tiên: `(\"Áo thun\", 150000, 50)`.\n",
        "2. Thay đổi giá tiền của sản phẩm đó thành 170000.\n",
        "3. In ra số lượng tồn kho của sản phẩm đó.\n",
        "4. Tạo một danh sách chứa thông tin về sản phẩm gồm ít nhất 3 sản phẩm, và in ra tổng số lượng tồn kho của tất cả các sản phẩm."
      ],
      "metadata": {
        "id": "MQkrVlbfeV1r"
      }
    },
    {
      "cell_type": "markdown",
      "source": [
        "###Answer"
      ],
      "metadata": {
        "id": "NiB5MxD3mwnA"
      }
    },
    {
      "cell_type": "code",
      "source": [
        "# Tạo tuple chứa thông tin về sản phẩm đầu tiên\n",
        "san_pham_1 = (\"Áo thun\", 150000, 50)"
      ],
      "metadata": {
        "id": "8L4P5oCKl2PY"
      },
      "execution_count": 28,
      "outputs": []
    },
    {
      "cell_type": "code",
      "source": [
        "san_pham_1"
      ],
      "metadata": {
        "id": "qF24DE2gmKHY",
        "colab": {
          "base_uri": "https://localhost:8080/"
        },
        "outputId": "46c80e13-b468-4c02-fe60-9799d94c5814"
      },
      "execution_count": 29,
      "outputs": [
        {
          "output_type": "execute_result",
          "data": {
            "text/plain": [
              "('Áo thun', 150000, 50)"
            ]
          },
          "metadata": {},
          "execution_count": 29
        }
      ]
    },
    {
      "cell_type": "code",
      "source": [
        "# Thay đổi giá tiền của sản phẩm đó\n",
        "san_pham_1 = san_pham_1[0], 170000, san_pham_1[2]"
      ],
      "metadata": {
        "id": "7823LzWTl3dm"
      },
      "execution_count": 30,
      "outputs": []
    },
    {
      "cell_type": "code",
      "source": [
        "san_pham_1"
      ],
      "metadata": {
        "id": "WdwNSJnrmJlM",
        "colab": {
          "base_uri": "https://localhost:8080/"
        },
        "outputId": "95a4744b-bf1b-4573-eccd-0c695192bdfa"
      },
      "execution_count": 31,
      "outputs": [
        {
          "output_type": "execute_result",
          "data": {
            "text/plain": [
              "('Áo thun', 170000, 50)"
            ]
          },
          "metadata": {},
          "execution_count": 31
        }
      ]
    },
    {
      "cell_type": "code",
      "source": [
        "# In ra số lượng tồn kho của sản phẩm đó\n",
        "print(\"Số lượng tồn kho của sản phẩm đó là:\", san_pham_1[2])"
      ],
      "metadata": {
        "id": "LsPg8mT6l5MB",
        "colab": {
          "base_uri": "https://localhost:8080/"
        },
        "outputId": "a8aee67f-f011-471c-b8f9-37e93b704d5b"
      },
      "execution_count": 32,
      "outputs": [
        {
          "output_type": "stream",
          "name": "stdout",
          "text": [
            "Số lượng tồn kho của sản phẩm đó là: 50\n"
          ]
        }
      ]
    },
    {
      "cell_type": "code",
      "source": [
        "# Tạo danh sách sản phẩm\n",
        "danh_sach_san_pham = [\n",
        "    (\"Áo thun\", 150000, 50),\n",
        "    (\"Quần jean\", 300000, 30),\n",
        "    (\"Áo khoác\", 500000, 20)\n",
        "]"
      ],
      "metadata": {
        "id": "zniMC_BYl6eO"
      },
      "execution_count": 33,
      "outputs": []
    },
    {
      "cell_type": "code",
      "source": [
        "# Tính tổng số lượng tồn kho của tất cả các sản phẩm\n",
        "tong_ton_kho = sum([san_pham[2] for san_pham in danh_sach_san_pham])\n",
        "print(\"Tổng số lượng tồn kho của tất cả các sản phẩm là:\", tong_ton_kho)"
      ],
      "metadata": {
        "id": "ROBThZMyl8pD",
        "colab": {
          "base_uri": "https://localhost:8080/"
        },
        "outputId": "6af992d7-c06f-42ac-c095-039236db293c"
      },
      "execution_count": 34,
      "outputs": [
        {
          "output_type": "stream",
          "name": "stdout",
          "text": [
            "Tổng số lượng tồn kho của tất cả các sản phẩm là: 100\n"
          ]
        }
      ]
    },
    {
      "cell_type": "markdown",
      "source": [
        "### Bài tập 2: Quản lý điểm số\n",
        "\n",
        "Quay về với đội tuyển tiếng Anh, do danh sách chỉ có điểm số nên bạn không biết điểm nào là của ai. Lớp bạn có 4 học sinh là An, Bảo, Châu, Đạt với điểm thi lần lượt là 10, 9.6, 9.5, 9.4. Mỗi học sinh được đại diện bởi một tuple gồm tên học sinh và điểm số.\n",
        "\n",
        "Yêu cầu:\n",
        "\n",
        "1. Tạo một danh sách chứa thông tin về điểm số, mỗi học sinh là một tuple gồm tên và điểm số.\n",
        "2. In ra điểm số cao nhất và thấp nhất trong danh sách.\n",
        "3. In ra tên của học sinh có điểm số cao nhất và thấp nhất.\n"
      ],
      "metadata": {
        "id": "Aq8JjoN2eV1t"
      }
    },
    {
      "cell_type": "markdown",
      "source": [
        "###Answer"
      ],
      "metadata": {
        "id": "cxTI9EXFnk-D"
      }
    },
    {
      "cell_type": "code",
      "source": [
        "# Danh sách điểm số của học sinh\n",
        "diem_hoc_sinh = [\n",
        "    (\"An\", 10),\n",
        "    (\"Bao\", 9.6),\n",
        "    (\"Chau\", 9.5),\n",
        "    (\"Dat\", 9.4),\n",
        "]"
      ],
      "metadata": {
        "id": "yIvEyJZvnO4D"
      },
      "execution_count": 35,
      "outputs": []
    },
    {
      "cell_type": "code",
      "source": [
        "# In ra điểm số cao nhất và thấp nhất\n",
        "diem_cao_nhat = max([diem for ten, diem in diem_hoc_sinh])\n",
        "diem_thap_nhat = min([diem for ten, diem in diem_hoc_sinh])\n",
        "print(\"Điểm số cao nhất là:\", diem_cao_nhat)\n",
        "print(\"Điểm số thấp nhất là:\", diem_thap_nhat)"
      ],
      "metadata": {
        "id": "gVZRUAIlnQ-v",
        "colab": {
          "base_uri": "https://localhost:8080/"
        },
        "outputId": "822e3729-02a0-43fc-d7fa-b639b93be0ea"
      },
      "execution_count": 36,
      "outputs": [
        {
          "output_type": "stream",
          "name": "stdout",
          "text": [
            "Điểm số cao nhất là: 10\n",
            "Điểm số thấp nhất là: 9.4\n"
          ]
        }
      ]
    },
    {
      "cell_type": "code",
      "source": [
        "# In ra tên của học sinh có điểm số cao nhất và thấp nhất\n",
        "hoc_sinh_cao_nhat = [ten for ten, diem in diem_hoc_sinh if diem == diem_cao_nhat][0]\n",
        "hoc_sinh_thap_nhat = [ten for ten, diem in diem_hoc_sinh if diem == diem_thap_nhat][0]\n",
        "print(\"Học sinh có điểm số cao nhất là:\", hoc_sinh_cao_nhat)\n",
        "print(\"Học sinh có điểm số thấp nhất là:\", hoc_sinh_thap_nhat)"
      ],
      "metadata": {
        "id": "HxK91EoqnTIm",
        "colab": {
          "base_uri": "https://localhost:8080/"
        },
        "outputId": "2e6b59f8-322d-46c1-d8f7-d3059d85fa3d"
      },
      "execution_count": 37,
      "outputs": [
        {
          "output_type": "stream",
          "name": "stdout",
          "text": [
            "Học sinh có điểm số cao nhất là: An\n",
            "Học sinh có điểm số thấp nhất là: Dat\n"
          ]
        }
      ]
    },
    {
      "cell_type": "markdown",
      "source": [
        "### Bài tập 3: Phân loại học sinh\n",
        "\n",
        "Đội tuyển trượt giải nên bạn bị phân về dạy lớp thường, bạn muốn phân loại các học sinh trong lớp của mình dựa trên điểm số. Cao hơn hoặc bằng 8 là học sinh giỏi.\n",
        "\n",
        "Yêu cầu:\n",
        "\n",
        "1. Tạo một danh sách chứa thông tin về điểm số của ít nhất 5 học sinh, mỗi học sinh là một tuple gồm tên và điểm số.\n",
        "2. Dùng hàm `len()` để tính số lượng học sinh có điểm số cao hơn hoặc bằng 8.\n",
        "3. Tạo danh sách gồm tên học sinh giỏi trong lớp của bạn.\n",
        "4. Hiện tại bạn đã có danh sách học sinh giỏi để nộp lên nhà trường xin giấy khen, hãy dùng hàm tuple() để bảo vệ dữ liệu không bị sửa đổi."
      ],
      "metadata": {
        "id": "48LxQwr2eV1t"
      }
    },
    {
      "cell_type": "markdown",
      "source": [
        "###Answer"
      ],
      "metadata": {
        "id": "owcwz9XXn0Jt"
      }
    },
    {
      "cell_type": "code",
      "source": [
        "# Danh sách điểm số của học sinh\n",
        "diem_hoc_sinh = [\n",
        "    (\"Ánh\", 8.5),\n",
        "    (\"Bình\", 9.0),\n",
        "    (\"Cúc\", 7.5),\n",
        "    (\"Dung\", 9.5),\n",
        "    (\"Giang\", 8.0)\n",
        "]"
      ],
      "metadata": {
        "id": "-Pw4bMwWn882"
      },
      "execution_count": 38,
      "outputs": []
    },
    {
      "cell_type": "code",
      "source": [
        "# Tính số lượng học sinh có điểm số cao hơn hoặc bằng 8\n",
        "so_luong_hoc_sinh_gioi = len([hoc_sinh for hoc_sinh in diem_hoc_sinh if hoc_sinh[1] >= 8])"
      ],
      "metadata": {
        "id": "zUwzrNfJqRIX"
      },
      "execution_count": 39,
      "outputs": []
    },
    {
      "cell_type": "code",
      "source": [
        "so_luong_hoc_sinh_gioi"
      ],
      "metadata": {
        "id": "Kzps2xpyup57",
        "colab": {
          "base_uri": "https://localhost:8080/"
        },
        "outputId": "5d2e4891-5b37-45c3-fd28-3745494513df"
      },
      "execution_count": 40,
      "outputs": [
        {
          "output_type": "execute_result",
          "data": {
            "text/plain": [
              "4"
            ]
          },
          "metadata": {},
          "execution_count": 40
        }
      ]
    },
    {
      "cell_type": "code",
      "source": [
        "# Tạo danh sách tên học sinh giỏi trong lớp\n",
        "hoc_sinh_gioi = [hoc_sinh[0] for hoc_sinh in diem_hoc_sinh if hoc_sinh[1] >= 8]"
      ],
      "metadata": {
        "id": "aVWf5EGro2GM"
      },
      "execution_count": 41,
      "outputs": []
    },
    {
      "cell_type": "code",
      "source": [
        "hoc_sinh_gioi"
      ],
      "metadata": {
        "id": "7HBS6MqTutJb",
        "colab": {
          "base_uri": "https://localhost:8080/"
        },
        "outputId": "3fd1a656-1bba-47d1-d185-94616aef162d"
      },
      "execution_count": 42,
      "outputs": [
        {
          "output_type": "execute_result",
          "data": {
            "text/plain": [
              "['Ánh', 'Bình', 'Dung', 'Giang']"
            ]
          },
          "metadata": {},
          "execution_count": 42
        }
      ]
    },
    {
      "cell_type": "code",
      "source": [
        "# Tạo bản sao không thể sửa đổi của danh sách điểm số của học sinh\n",
        "danh_sach_hoc_sinh_gioi = tuple(hoc_sinh_gioi)"
      ],
      "metadata": {
        "id": "NXfazqb0tT8F"
      },
      "execution_count": 43,
      "outputs": []
    },
    {
      "cell_type": "code",
      "source": [
        "# Thử thêm một học sinh vào danh sách học sinh giỏi\n",
        "hoc_sinh_gioi.append(\"An\")"
      ],
      "metadata": {
        "id": "nmWhlwjnw7p9"
      },
      "execution_count": 44,
      "outputs": []
    },
    {
      "cell_type": "code",
      "source": [
        "# Thử thêm một học sinh vào bản sao danh sách học sinh giỏi\n",
        "#danh_sach_hoc_sinh_gioi.append(\"An\")"
      ],
      "metadata": {
        "id": "VK0n5iCXwHBM"
      },
      "execution_count": 46,
      "outputs": []
    },
    {
      "cell_type": "markdown",
      "source": [
        "#*End*"
      ],
      "metadata": {
        "id": "MZZ_krO7e9RA"
      }
    }
  ]
}